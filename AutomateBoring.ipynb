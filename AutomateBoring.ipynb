{
 "cells": [
  {
   "cell_type": "code",
   "execution_count": null,
   "metadata": {},
   "outputs": [],
   "source": [
    "# Definitie expression, condition, block, indentation, new block starts after :\n",
    "name = 'Alice' # Variabele\n",
    "if name == 'Alice': #This is an expression. An expression in an if statement is called a condition\n",
    "    print(f'Hello {name}') # All code that has the same indentation is called a block. A block tells Python what belongs to the if statement in this case. Once indentation returns to its previous state, the block has ended. A block is also sometimes called a clause. New blocks always begin after a statement that ends with a colon. \n",
    "print('Done')\n",
    "\n",
    "# One of the few cases where indentation does not matter is in lists\n",
    "IndentedList = ['appels', \n",
    "                'peren']\n",
    "\n",
    "# tuples zijn ongeveer hetzelfde als lists, maar dan immutable en met ronde haakjes ipv rechthoekige haakjes\n",
    "TupleVoorbeeld = ('appels', 'peren')"
   ]
  },
  {
   "cell_type": "code",
   "execution_count": null,
   "metadata": {},
   "outputs": [],
   "source": [
    "# Gebruik [] wanneer je toegang wilt tot indexable objects zoals list-like objects. Deze starten van 0 voor het eerste element. \n",
    "# Gebruik () wanneer je functies of methods aanroept. "
   ]
  },
  {
   "cell_type": "code",
   "execution_count": null,
   "metadata": {},
   "outputs": [],
   "source": [
    "# datatype check\n",
    "if type('def') == str:\n",
    "    print('That is a string')\n",
    "else:\n",
    "    print('That is not a string')\n",
    "\n",
    "import time # Wanneer een import geen error geeft betekent het dat je hem geinstalleerd hebt. Je kunt natuurlijk ook altijd met pip list checken of de module geinstalleerd is. "
   ]
  },
  {
   "cell_type": "code",
   "execution_count": null,
   "metadata": {},
   "outputs": [],
   "source": [
    "# Programma dat om naam vraagt en later om leeftijd\n",
    "# f'string' met transformatie erin\n",
    "print('Hello')\n",
    "print('What is your name?')\n",
    "myName = input()\n",
    "print(f'Welcome {myName}, pleased to meet you!')\n",
    "print(f'{myName}, what is your age?')\n",
    "myAge = input()\n",
    "print(f'Fantastic {myName}, you will be {str(int(myAge)+1)} years in one year')"
   ]
  },
  {
   "cell_type": "code",
   "execution_count": null,
   "metadata": {},
   "outputs": [],
   "source": [
    "# else in een if-statement. else statement wordt uitgevoerd wanneer alle bovenstaande statements False zijn \n",
    "password = input()\n",
    "if password == 'swordfish': \n",
    "    print('Access granted')\n",
    "else:\n",
    "    print('Wrong password')"
   ]
  },
  {
   "cell_type": "code",
   "execution_count": null,
   "metadata": {},
   "outputs": [],
   "source": [
    "# elif in een if-statement, order of execution in if-statement\n",
    "name = 'Bob'\n",
    "age = 3000\n",
    "if name == 'Alice':\n",
    "    print('Hi Alice')\n",
    "elif age < 12:\n",
    "    print('You are not Alice, kiddo')\n",
    "elif age > 2000: #Order of elif statements matters: first elif condition that is True will execute. The rest will be disregarded, in this case the condition below: age > 100. \n",
    "    print('Unlike you, Alice is not an undead immortal Vampire')\n",
    "elif age > 100: \n",
    "    print('You are not Alice, granny')\n",
    "else:\n",
    "    print('You\\'re neither Bob nor Alice. Get you gone, imposter')"
   ]
  },
  {
   "cell_type": "code",
   "execution_count": null,
   "metadata": {},
   "outputs": [],
   "source": [
    "# Normaal komt er True of False uit een condition in een if-statement (boolean). In dit geval wordt een lege string gezien als \"Falsey\" en een ingevulde string als \"Truthy\". Voor integer values is 0 en 0.0 \"Falsey\" en al het andere \"Truthey\". Zie de cel hieronder voor bewijs hiervan. \n",
    "print('Enter your name')\n",
    "name = input()\n",
    "if name: # Dit werkt omdat '' gezien wordt als False en een ingevulde string gezien wordt als True, maar beter zou zijn if name != '':\n",
    "    print(f'Your name is {name}')\n",
    "else:\n",
    "    print('You did not enter a name')"
   ]
  },
  {
   "cell_type": "code",
   "execution_count": null,
   "metadata": {},
   "outputs": [],
   "source": [
    "# Checken of 0 en 0.0 True of False is\n",
    "print(bool(0)) # False\n",
    "print(bool(0.0)) # False\n",
    "print(bool(1.0)) # True\n",
    "print(bool(15.3)) # True\n",
    "print(bool('')) # False\n",
    "print(bool('d')) # True"
   ]
  },
  {
   "cell_type": "code",
   "execution_count": null,
   "metadata": {},
   "outputs": [],
   "source": [
    "# Game\n",
    "\n",
    "name = 'David'\n",
    "\n",
    "def intro():\n",
    "    print('')\n",
    "    print('You have been sleeping soundly. You went to bed early because you just couldn\\'t keep your eyes open.')\n",
    "    print('Suddenly, you wake up. You are very thirsty. You decide to go downstairs and ransack the fridge.')\n",
    "    print('You walk down the stairs, walk to the kitchen and open the fridge. As you open it, you feel a cold shiver run down your spine.')\n",
    "    print('You have the eerie feeling that someone is watching you; or rather, someTHING is watching you.')\n",
    "    print('')\n",
    "    print('You spin around to try and confirm your suspicions and you see a shadowy figure. It is standing only a few feet away from you.')\n",
    "    print('The figure is tall and blurry. Details are hard to make out.')\n",
    "    print('The one thing that is very clear though, are two bright red slits where its eyes are supposed to be.')\n",
    "    print('The sight of this ... thing, in your kitchen, standing so eerily close by, frightens you to your core.')\n",
    "    print('It feels like an ice cold claw is gripping your heart and slowly clenching its fist.')\n",
    "    print('Fear threatens to overwhelm you. One last little voice of reason in your head is urging you to make a decision, any decision.')\n",
    "    print('')\n",
    "    return print('What will you do?')\n",
    "\n",
    "def chooseFirstAction():\n",
    "    print('')\n",
    "    print('Please enter the number of your choice.')\n",
    "    print('1. You run like Severus Snape would from a bottle of shampoo. You do not even care where you will run, as long as it is not here.')\n",
    "    print('2. You start talking to the figure. You ask him why he is in your kitchen, what he wants and if he could pass the cola.')\n",
    "    print('3. You deduced that this could very well be a vampire and in a moment clarity you remember that garlic is in your fridge.')\n",
    "    action = input()\n",
    "    if int(action) == 1:\n",
    "        print('')\n",
    "        print('You ran. You ran very fast. In fact, no person probably ever ran this fast. You have likely set a record.')\n",
    "        print('However, you did not run fast enough. The creature was upon you in seconds.')\n",
    "        print('The last thing you hear before you die an agonizing death is the creature\\'s whisper in your ear')\n",
    "        print(f' \\\"{name}, why do you never fully screw the lids on the cola bottles?\\\"')\n",
    "    elif int(action) == 2:\n",
    "        print('')\n",
    "        print('The creature responds with a deep voice. A voice like the sound of a grave opening. The sound of death.')\n",
    "        print('')\n",
    "        print(f'\\\"Funny you should ask about the cola, {name}.\\\"')\n",
    "        print('\\\"You see, I have been stealing cola from your fridge for several years now.\\\"')\n",
    "        print('\\\"You have always blamed your bad memory for never having enough cola, but I confess, it was I.\\\"')\n",
    "        print('')\n",
    "        print('\\\"However, there is one thing that has driven me quite mad over the years. Would you happen to know what that is?\\\"')\n",
    "        print('')\n",
    "        print('\\\"Don\\'t bother answering, I will tell you: I am getting sick and tired of spilling cola of all over myself ...\\\"')\n",
    "        print(f'\\\"BECAUSE YOU DID NOT CLOSE THE LID PROPERLY ON THE COLA BOTTLE, {name.upper()}\\\"')\n",
    "        print('As the creature is speeding towards you, you realize you will finally have to pay the ultimate price for your transgressions...')\n",
    "    elif int(action) == 3:\n",
    "        print('')\n",
    "        print('You say nothing, grab the garlic from the fridge and hurl it towards the shadowy figure while screaming:')\n",
    "        print(' \\\"IT\\'S GETTING HOT IN HERE, SO TAKE OFF ALL YOUR CLOVES!\\\"')\n",
    "        print('')\n",
    "        print('Without looking if it had any effect, you sprint to the living room as if you had a bus to catch.')\n",
    "        print('You hear a howl of surprised rage from the kitchen, meaning the vampire is still there. There is still time for you to hide!')\n",
    "        print('The question is, where will you hide?')\n",
    "    return int(action)\n",
    "\n",
    "def whereToHide():\n",
    "    print('')\n",
    "    print('Please enter the number of your choice.')\n",
    "    print('1. You hide behind the couch. Hehehe, a classic hiding spot! The vampire will never find you here.')\n",
    "    print('2. Screw hiding, it is time to go on the offence! You remember you received a cross from auntie Bella some time ago and grab it from the cupboard.')\n",
    "    actionHide = input()\n",
    "    if int(actionHide) == 1:\n",
    "        print('')\n",
    "        print('The vampire storms into the living room, his anger almost palpable. You hear him sniffing and cursing softly to himself:')\n",
    "        print('\\\"I cannot smell the stinking maggot with the lingering odor of this cursed vegetable that he threw at me.\\\"')\n",
    "        print(f'\\\"No matter. Listen to me {name}, and listen well!\\\" The vampire bellowed.')\n",
    "        print('\\\"I will not waste my time searching for you but I know you can hear me!\\\"')\n",
    "        print('\\\"From now on, you will close the lid on the cola bottle properly, or there will be a reckoning!\\\"')\n",
    "        print('\\\"... And while you\\'re at it, clean your fridge! I\\'ve seen pigsties that are cleaner!\\\"')\n",
    "        print('And with that, you hear the vampire leaving the room and slamming the front door shut behind him.')\n",
    "        print('')\n",
    "        print('You fear the vampire is playing a trick on you so you decide to be patient and wait for one more hour.')\n",
    "        print('Impatience however, soon gets the better of you after half an hour and you get up from your hiding spot.')\n",
    "        print('You wonder if you should laugh about the silliness of the vampire\\'s request or soil yourself because there was an actual vampire in your house.')\n",
    "        print('')\n",
    "        print('A strange dilemma to be facing in the middle of the night. You decide to be pragmatic about it (you can always soil yourself later after all).')\n",
    "        print('Apparently this vampire is a cola lover, so you had best make sure that there is enough cola in the fridge.')\n",
    "        print('And there was this thing about the lids... Oh well, you cannot imagine that screwing the lids on tightly can be such a big deal.')\n",
    "        print('')\n",
    "        print('\\\"Where is Blade when you need him.\\\" are your final thoughts before drifting off to sleep after you have returned to your bed.')\n",
    "    elif int(actionHide) == 2:\n",
    "        print('')\n",
    "        print('You are right on time. The vampire runs into the room. You can however, sense his fear when you hold up the cross for it to see.')\n",
    "        print('\\\"RELIGION? NOOOOOOOOoooo\\\" the creature screams, while the creature and it\\'s screams slowly dissipate into nothingness.')\n",
    "        print('It does not take long before there is no trace left of the vampire.')\n",
    "        print('')\n",
    "        print('You find it strangely anticlimatic. You are however, far too relieved to give the anticlimax of this event too much thought.')\n",
    "        print('')\n",
    "        print('\\\"You know what?\\\" you think before you doze off a few moments after returning to bed \\\"I might visit church this sunday\\\"')\n",
    "\n",
    "playAgain = 'yes'\n",
    "while playAgain == 'yes' or playAgain == 'Yes' or playAgain == 'y': # Of, playAgain.lower() == 'yes' dan hoef je niet meerdere condities te maken waarbij je rekening probeert te houden met upper-/lowercase\n",
    "    name = ''\n",
    "    print('')\n",
    "    print('What is your name?')\n",
    "    name = input()\n",
    "\n",
    "    intro()\n",
    "\n",
    "    if chooseFirstAction() == 3:\n",
    "        whereToHide()\n",
    "    \n",
    "    print()\n",
    "    print('Do you want to play again? (yes/no)')\n",
    "    playAgain = input()\n"
   ]
  },
  {
   "cell_type": "markdown",
   "metadata": {},
   "source": [
    "While loop = loopt net zo lang als een condition True is"
   ]
  },
  {
   "cell_type": "code",
   "execution_count": null,
   "metadata": {},
   "outputs": [],
   "source": [
    "# while loops lijken veel op if-statements. Het verschil is dat bij een if-this-then-that de uitvoering afgelopen is. Bij een while loop ga je aan het einde van de loop weer terug naar de condition aan het begin van de loop. \n",
    "# Er wordt dan gecheckt of deze condition nog steeds True is en als dit zo is dan ga je weer door de blocks van de while loop heen. Dit blijft zo doorgaan tot de condition aan het begin False is. \n",
    "spam = 0\n",
    "while spam < 5:\n",
    "    spam = spam + 1\n",
    "    print(spam)"
   ]
  },
  {
   "cell_type": "code",
   "execution_count": null,
   "metadata": {},
   "outputs": [],
   "source": [
    "# Input validation\n",
    "# While name isn't 'your name', print 'Please type your name'\n",
    "name = ''\n",
    "while name != 'your name': # Wanneer het name == 'your name' zou zijn, dan zou dit programma alleen steeds opnieuw de loop doorlopen wanneer je 'your name' zou intikken. Hier is het andersom. Het programma stopt alleen wanneer je 'your name' intikt. \n",
    "    print('Please type your name') # Oftewel, please type 'your name', haha heel grappig\n",
    "    name = input() # Nadat ik hier mijn eigen naam heb ingevuld wordt er gekeken of David matcht met de condition bovenin, zo niet dan begint de loop weer overnieuw\n",
    "print('Thank you')"
   ]
  },
  {
   "cell_type": "code",
   "execution_count": null,
   "metadata": {},
   "outputs": [],
   "source": [
    "# break in infinite while loop\n",
    "while True: # Normaal gesproken is dit een infinite loop, ware het niet voor de break statement. De break statement zorgt ervoor dat de loop meteen verlaten wordt, zonder nog the checken of de condition True is. \n",
    "    print('Hello')\n",
    "    break"
   ]
  },
  {
   "cell_type": "code",
   "execution_count": null,
   "metadata": {},
   "outputs": [],
   "source": [
    "# een infinite while loop die onderbroken wordt door een if statement met een break in de while loop\n",
    "while True:\n",
    "    print('Please type your name')\n",
    "    name = input()\n",
    "    if name == 'your name':\n",
    "        break\n",
    "print('Thank you for entering your name')"
   ]
  },
  {
   "cell_type": "code",
   "execution_count": null,
   "metadata": {},
   "outputs": [],
   "source": [
    "# continue in een while loop zorgt ervoor dat er meteen weer naar het begin van de while loop gegaan wordt zonder de resterende code af te werken. In dit geval zal alleen 1 2 4 en 5 getoond worden omdat als spam 3 is, er meteen terug gegaan wordt naar het begin van de loop om de condition te checken en print(spam) dus niet meer meegenomen wordt. \n",
    "spam = 0\n",
    "while spam < 5:\n",
    "    spam = spam + 1\n",
    "    if spam == 3:\n",
    "        continue\n",
    "    print(spam)"
   ]
  },
  {
   "cell_type": "markdown",
   "metadata": {},
   "source": [
    "FOR loop iterates a specific number of times (while loop iterates as long as a condition is True)"
   ]
  },
  {
   "cell_type": "code",
   "execution_count": null,
   "metadata": {},
   "outputs": [],
   "source": [
    "# For loop iterates zo veel als opgegeven is. \n",
    "for i in range(5):\n",
    "    print(i)"
   ]
  },
  {
   "cell_type": "code",
   "execution_count": null,
   "metadata": {},
   "outputs": [],
   "source": [
    "# Zelfde als bovenstaande for loop, maar dan gebruik makend van while\n",
    "a = 0\n",
    "while a < 5:\n",
    "    print(a) # Wanneer print(a) boven a = a + 1 staat, wordt deze statement eerst uitgevoerd. Wanneer dit andersom zou zijn zou 0 niet geprint worden omdat er eerst 0+1 gedaan zou worden en DAN pas de print(a). Op dat moment zou a dus al 1 zijn. \n",
    "    a = a + 1"
   ]
  },
  {
   "cell_type": "code",
   "execution_count": null,
   "metadata": {},
   "outputs": [],
   "source": [
    "# Nader kijken naar range option in for loop. Deze functie geeft een range object (datatype = range). In dit geval dus een range van cijfers van 0 t/m 4. Dit lijkt enigszins op een list. \n",
    "# range(0,10,2) range van 0 2 4 6 8, je kunt ipv 2 ook een negatief getal invoeren zodat er terug geteld wordt\n",
    "b = list(range(5))\n",
    "c = range(5)\n",
    "print(b)\n",
    "print(c)"
   ]
  },
  {
   "cell_type": "code",
   "execution_count": null,
   "metadata": {},
   "outputs": [],
   "source": [
    "# break en continue werken ook in for loops, in onderstaande for loop wordt 6 niet geprint\n",
    "for num in range(0,10,2):\n",
    "    if num == 6: # Wanneer num 6 is...\n",
    "        continue # meteen terug naar het begin van de loop en geen print(num) dus\n",
    "    print(num)"
   ]
  },
  {
   "cell_type": "markdown",
   "metadata": {},
   "source": [
    "### Functions\n",
    "Belangrijkste reden voor het gebruik van functions is om van duplicate code af te komen\n",
    "Python built-in functions (print, len, etc.) en functies in externe libraries\n",
    "\n",
    "je kunt externe libraries installeren dmv pip. Pip is een Python tool die externe libraries veilig download en installeert van https://pypi.python.org/, the website of the Python Software Foundation. PyPI, or the Python Package Index, is a sort of free app store for Python modules"
   ]
  },
  {
   "cell_type": "code",
   "execution_count": null,
   "metadata": {},
   "outputs": [],
   "source": [
    "# Naast de built-in functions in Python zoals print en len heeft Python ook een set van modules genaamd \"de standard library\". Elke module is een Python programma die functies bevatten die je kunt gebruiken in je programma's/scripts. Je kunt deze libraries verkrijgen dmv import\n",
    "\n",
    "import random # Je kunt meerdere libraries importeren door import random, sys, etc. te doen'\n",
    "\n",
    "random.randint(1,10) # De Functie randint bestaat niet in reguliere Python, maar wel in de random library\n"
   ]
  },
  {
   "cell_type": "code",
   "execution_count": null,
   "metadata": {},
   "outputs": [],
   "source": [
    "# Naast de reguliere import, kun je ook onderstaande doen. Je hoeft dan niet meer random.randint te typen maw, je hoeft de library dan niet meer aan de library te refereren wanneer je een functie van de geimporteerde library wilt gebruiken. Geen best practise want je weet dan niet meer van welke library een bepaalde functie afkomt. \n",
    "\n",
    "from random import *\n",
    "\n",
    "randint(1,10)"
   ]
  },
  {
   "cell_type": "code",
   "execution_count": null,
   "metadata": {},
   "outputs": [],
   "source": [
    "# sys.exit sluit een programma af zonder naar de regels te kijken onder sys.exit\n",
    "\n",
    "import sys\n",
    "\n",
    "print('Hello')\n",
    "sys.exit()\n",
    "print('Bye') # Deze regel zal nu niet meer uitgevoerd worden. "
   ]
  },
  {
   "cell_type": "code",
   "execution_count": null,
   "metadata": {},
   "outputs": [],
   "source": [
    "# pyperclip module is een library die gebruik kan maken van het klembord. Je kunt dit gebruiken om grote hoeveelheden tekst van het klembord naar je programma te krijgen of van het programma naar je klembord\n",
    "\n",
    "import pyperclip\n",
    "\n",
    "pyperclip.copy('Hello world') # Kopieert de tekst 'Hello world' naar het klembord\n",
    "pyperclip.paste() # Plakt datgene wat er op het klembord staat"
   ]
  },
  {
   "cell_type": "markdown",
   "metadata": {},
   "source": [
    "Zelfgemaakte functies"
   ]
  },
  {
   "cell_type": "code",
   "execution_count": null,
   "metadata": {},
   "outputs": [],
   "source": [
    "# Simpele nieuwe functie maken en waarom je functies zou gebruiken\n",
    "\n",
    "def hello(): # def definieert slechts de functie. Het voert de code binnen de functie niet uit. \n",
    "    print('Howdy')\n",
    "    print('Hello there')\n",
    "\n",
    "# Hieronder wordt de functie 2 keer uitgevoerd. Hierbij wordt bij elke keer dat de functie uitgevoerd wordt eerst 'Howdy' geprint en vervolgens 'Hello there'\n",
    "hello() \n",
    "hello()\n",
    "\n",
    "# Wanneer je het bovenstaande niet met behulp van een functie zou doen, zou je het onderstaande moeten doen waarbij je dezelfde code meerdere keren aanroept. Dit is niet ideaal want wanneer je deze code ooit eens aan zou moeten passen moet het op meerdere plekken (zie hieronder). Vandaar dat een functie beter werkt voor deze casus. Dit heet ook wel 'deduplicating code'. Dit zorgt ervoor dat je code leesbaarder is, makkelijker te wijzigen, makkelijker te onderhouden en makkelijker te updaten. \n",
    "# print('Howdy')\n",
    "# print('Hello there')\n",
    "# print('Howdy')\n",
    "# print('Hello there')"
   ]
  },
  {
   "cell_type": "code",
   "execution_count": null,
   "metadata": {},
   "outputs": [],
   "source": [
    "# Arguments in een zelfgemaakte functie\n",
    "\n",
    "def hello(name): # De variabele name noemt men 'parameter'\n",
    "    print(f'Hello {name}')\n",
    "\n",
    "hello('David') # De waarde die je in een function call invoert heet 'argument'\n",
    "hello('ikke')"
   ]
  },
  {
   "cell_type": "code",
   "execution_count": null,
   "metadata": {},
   "outputs": [],
   "source": [
    "# Function calls can be part of expressions because they evaluate to a value returned by the function call\n",
    "# When creating a function with the def statement, we can specify what the function returns with the 'return'-statement\n",
    "def plusOne(numer):\n",
    "    return numer + 1\n",
    "\n",
    "plusOne(1)"
   ]
  },
  {
   "cell_type": "code",
   "execution_count": 1,
   "metadata": {},
   "outputs": [
    {
     "name": "stdout",
     "output_type": "stream",
     "text": [
      "Factorial resultaat voor invoer 3 = 6\n"
     ]
    }
   ],
   "source": [
    "# Factorial / faculteit is een soort van product combinatie in wiskunde. Factorial 4 is:\n",
    "1*2*3*4\n",
    "\n",
    "# Factorial 7 is:\n",
    "1*2*3*4*5*6*7\n",
    "\n",
    "# Factorial functie (eigen inventie for the lulz)\n",
    "def factorial_1(n):\n",
    "    factLijst = list(range(1,n+1)) # Lijst maken obv invoer, e.g. bij invoer 3 krijg je [1,2,3]\n",
    "    factLijstString = '*'.join(map(str, factLijst)) # string maken van de lijst waarbij de seperator '*' is. E.g. bij invoer 3 krijg je '1*2*3'. De map()-functie gebruikt een functie in het 1e argument en voert die uit voor elk item in de lijst (2e argument van map()-functie). \n",
    "    resultaat = eval(factLijstString) # De gemaakt string evalueren alsof het geen string is (dit is wat de eval()-functie doet), maar int dus bij invoer 3 krijg je 1*2*3 = 6\n",
    "    return print(f'Factorial resultaat voor invoer {n} = {resultaat}')\n",
    "\n",
    "factorial_1(3)"
   ]
  },
  {
   "cell_type": "markdown",
   "metadata": {},
   "source": [
    "#### return statements in functions and None"
   ]
  },
  {
   "cell_type": "code",
   "execution_count": null,
   "metadata": {},
   "outputs": [],
   "source": [
    "# All function calls return values. When you type the string 'Hello' in the interactive shell, it evaluates to itself\n",
    "# 'Hello'\n",
    "print(print('Hello')) # In Python, the print() function returns None by default. This means that when you print a value using print(), the function will display the value on the console but it will not return any value that can be used by other parts of the program.\n",
    "\n",
    "# But when you call print and pass the string 'Hello', the quotes for the string, aren't there. This is because print does not return the string, it just displays the string as a side effect. It actually returns a special value called None with capital N and no quotes, kind of like True or False. The None value is the only value of the None type datatype. It's a value that represents the lack of a value. None does not show up in the interactive shell. \n",
    "\n",
    "# Every function call has a return statement, even if it is None that does not show up. You do not have to have a return value in all or your (self created) functions. If there is no return statement it will simply return None and this does not show up in the interactive shell. \n",
    "# print('Hello')\n",
    "# None"
   ]
  },
  {
   "cell_type": "markdown",
   "metadata": {},
   "source": [
    "#### Keyword arguments\n",
    "some functions have so called key word arguments, these are often used to pass optional arguments to a function call"
   ]
  },
  {
   "cell_type": "code",
   "execution_count": null,
   "metadata": {},
   "outputs": [],
   "source": [
    "# Keyword arguments example: the print() function adds a new line to the string it prints as a default\n",
    "print('Hello')\n",
    "print('World')\n",
    "\n",
    "# Je kunt dit veranderen door bijvoorbeeld het keyword argument end='' te definieren\n",
    "print('Hello', end=' ')\n",
    "print('World')\n",
    "\n",
    "# Nog een voorbeeld van een Keyword argument van print is sep. Default hiervan is ' ' maar je kunt dit ook veranderen\n",
    "print('hond', 'kat')\n",
    "print('hond', 'kat', sep=' | ')"
   ]
  },
  {
   "cell_type": "markdown",
   "metadata": {},
   "source": [
    "#### return value van een functie gebruiken in andere functie"
   ]
  },
  {
   "cell_type": "code",
   "execution_count": null,
   "metadata": {},
   "outputs": [],
   "source": [
    "# Return value van een functie gebruik in een andere functie\n",
    "def plusTwo(getal):\n",
    "    return getal + 2\n",
    "\n",
    "def timesTwo(optel):\n",
    "    return optel * 2\n",
    "\n",
    "timesTwo(plusTwo(1))"
   ]
  },
  {
   "cell_type": "markdown",
   "metadata": {},
   "source": [
    "#### variables binnen en buiten een functie (global en local variables)\n",
    "variables die binnen een functie gedefinieerd zijn bestaan binnen de local scope van de functie. Variables die gedefinieerd zijn buiten functies bestaan in de global scope. Scope covers an area of the source code. Elke regel in je script bestaat ofwel in de global of local scope. Elke functie heeft zijn eigen local scope. "
   ]
  },
  {
   "cell_type": "code",
   "execution_count": null,
   "metadata": {},
   "outputs": [],
   "source": [
    "# Global scope\n",
    "# Je kunt dezelfde naam gebruiken voor een variabele wanneer deze in verschillende scopes zitten. De variable wordt dan niet overschreven omdat deze in een andere scope bestaat. \n",
    "spammetje = 42 # Global variable. Can be used in local scope. \n",
    "\n",
    "# Local scope\n",
    "def eggs():\n",
    "    spammetje = 10 # Local variable. Cannot be used in global scope. Code in one local scope cannot use variables from another local scope (maw, een variable gedefinieerd in functieA kan niet gebruikt worden in de local scope van functieB). Local variables bestaan alleen zo lang als de functie aangeroepen wordt. These local variables do not exist after the function returns. \n",
    "\n",
    "# Global scope\n",
    "eggs()"
   ]
  },
  {
   "cell_type": "code",
   "execution_count": null,
   "metadata": {},
   "outputs": [],
   "source": [
    "# Hoe kun je een global variable overschrijven in een functie (ofwel in een local scope)?\n",
    "GlobalVariable = 42\n",
    "\n",
    "def GlobalOverschrijven():\n",
    "    global GlobalVariable # Hiermee overschrijf je een global variable wat normaal gesproken niet mogelijk is omdat variabelen in een local scope als seperate variabelen gezien worden van variabelen gedefinieerd in een globale scope. \n",
    "    GlobalVariable = 22\n",
    "    print(GlobalVariable)\n",
    "\n",
    "GlobalOverschrijven()"
   ]
  },
  {
   "cell_type": "markdown",
   "metadata": {},
   "source": [
    "### Detect & handle errors and then continue programm instread of stopping the programm when an error occurs"
   ]
  },
  {
   "cell_type": "code",
   "execution_count": null,
   "metadata": {},
   "outputs": [],
   "source": [
    "try:\n",
    "    TryBlock - whenever error occurs here, ExceptBlock will be executed\n",
    "except:\n",
    "    ExceptBlock"
   ]
  },
  {
   "cell_type": "code",
   "execution_count": null,
   "metadata": {},
   "outputs": [],
   "source": [
    "# Onderstaande leidt tot een error wanneer een 0 gebruikt wordt (ZeroDivisionError)\n",
    "def div42by(div):\n",
    "    return print(42 / div)\n",
    "    \n",
    "# div42by(10)\n",
    "# div42by(0)\n",
    "# div42by(1)\n",
    "\n",
    "# Maar wanneer je try: except gebruikt kun je aangeven hoe er met deze specifieke error omgegaan moet worden\n",
    "def div42by2(div):\n",
    "    try:\n",
    "        return print(42 / div) # Wanneer er code in een try clause een ZeroDivisionError tegenkomt, gaat deze meteen naar de except clause\n",
    "    except ZeroDivisionError: # Je kunt ook een except clause hebben zonder het type error te specificeren, dan worden alle errors afgevangen\n",
    "        print('Error: you cannot divide by zero')\n",
    "\n",
    "div42by2(10)\n",
    "div42by2(0)\n",
    "div42by2(1)"
   ]
  },
  {
   "cell_type": "code",
   "execution_count": null,
   "metadata": {},
   "outputs": [],
   "source": [
    "# Error handling met try en except met als doel input validation\n",
    "# Later een while loop toegevoegd om de vraag terugkerend te maken bij verkeerde input\n",
    "\n",
    "while True:\n",
    "    print('How many cats do you have?')\n",
    "    NumCats = input()\n",
    "    try:\n",
    "        if int(NumCats) >= 4: # input() functie retourneert een str value dus deze moet eerst omgezet worden naar int\n",
    "            print(f'{NumCats}? That is a lot of cats')\n",
    "            break\n",
    "        # Error handling dmv elif wanneer een getal < 0 ingevoerd wordt\n",
    "        elif int(NumCats) < 0:\n",
    "            print('Please enter a number that is at least 0')\n",
    "            continue\n",
    "        else:\n",
    "            print(f'{NumCats}? That is not that many cats')\n",
    "            break\n",
    "    except ValueError:\n",
    "        print('Please enter an integer number instead of a written number')\n",
    "        continue\n",
    "\n"
   ]
  },
  {
   "cell_type": "code",
   "execution_count": null,
   "metadata": {},
   "outputs": [],
   "source": [
    "# Spel maken waarbij je een nummer moet raden\n",
    "import random\n",
    "\n",
    "print('Hello, what is your name?')\n",
    "RaadNaam = input()\n",
    "\n",
    "print(f'Hello {RaadNaam}, I am thinking of a number between 1 and 10.')\n",
    "\n",
    "# Willekeurig nummer genereren wat later geraden moet worden en aantal toegestane gokken definieren\n",
    "RandomNummer = random.randint(1,10)\n",
    "AantalRange = range(1,5)\n",
    "\n",
    "# Vier keer de kans geven om juist te raden\n",
    "for AantalKeer in AantalRange:\n",
    "    print(f'Take a guess, you have {max(AantalRange) + 1 - AantalKeer} guesses left')\n",
    "    RaadNummer = input()\n",
    "    # Error handling\n",
    "    try:\n",
    "        RaadNummer = int(RaadNummer)\n",
    "        if RaadNummer < RandomNummer:\n",
    "            print(f'Your guess of {str(RaadNummer)} was too low')\n",
    "        elif RaadNummer > RandomNummer:\n",
    "            print(f'Your guess of {str(RaadNummer)} was too high')\n",
    "        elif RaadNummer == RandomNummer:\n",
    "            break # Wanneer RandomNummer geraden wordt, wordt de loop geëindigd\n",
    "    # Wanneer er een ValueError is (er wordt een string ipv een int ingevoerd), wordt onderstaande boodschap getoond\n",
    "    except ValueError:\n",
    "        print('Please enter a numeric value without decimals')\n",
    "\n",
    "# Boodschap wanneer de loop eindigt\n",
    "if RaadNummer == RandomNummer:\n",
    "    print(f'You have guessed correctly! The number I had in mind was {RandomNummer}')\n",
    "    print('')\n",
    "    print(f'It took you {AantalKeer} guesses to guess the right number. Well done!')\n",
    "else:\n",
    "    print(f'You did not guess correctly, the number I had in mind was {RandomNummer}')\n",
    "    print('')\n",
    "    print(f'Unfortunately the {AantalKeer} guesses were not enough to guess the number I had in mind. Better luck next time!')\n",
    "\n"
   ]
  },
  {
   "cell_type": "markdown",
   "metadata": {},
   "source": [
    "### Lists - values inside a list are sometimes called \"items\""
   ]
  },
  {
   "cell_type": "code",
   "execution_count": null,
   "metadata": {},
   "outputs": [],
   "source": [
    "# Lists, items are comma delimited\n",
    "animals = ['cat', 'rat', 'dog']\n",
    "animals # When you type the variable as an expression, like any other variable it evaluates to the value inside of the variable which is the list value\n",
    "\n",
    "# Index: single value/items selection\n",
    "animals[0] # Access individual items in the last by using an index\n",
    "\n",
    "# List in a list\n",
    "MoreAnimals = [['hond', 'kat'], 'mus', 'adelaar', [1, 2, 3]]\n",
    "MoreAnimals[3][1] # Vierde item in de lijst [3], en van dat vierde item het tweede item [1] dus 2\n",
    "\n",
    "# Negative index\n",
    "MortalKombat = ['Scorpion', 'Sub-Zero', 'Shao Kahn']\n",
    "MortalKombat[-1] # Eerste item van rechts dus Shao Kahn\n",
    "f'{MortalKombat[0]} beats {MortalKombat[-2]}'\n",
    "\n",
    "# Slices of lists: list of values/items\n",
    "animals[1:3] # Gives indexes 1 till 2 excluding 3\n",
    "\n",
    "# Changing item in a list\n",
    "ChangeItem = [1,2,3,4]\n",
    "ChangeItem[0] = 'enne' # Now index 0 in the list (number 1) has been changed to string 'enne'\n",
    "\n",
    "# Change multiple items in a list\n",
    "ChangeItem[1:3] = ['twee', 'drie']\n",
    "\n",
    "# Change multiple items in a list and add an item to the list\n",
    "ChangeMultipleItems = ['spijker', 'schroef', 'moer']\n",
    "ChangeMultipleItems[2:3] = ['hamer', 'ringetje'] # The list ChangeMultipleItems max index is 2 up till this point. Now 'ringetje' is added at index 3 and the list has a total of 4 items instead of 3\n",
    "\n",
    "# Omitting the first or last index\n",
    "# animals = ['cat', 'rat', 'dog']\n",
    "animals[:1] # From 0 till 0 excluding 1\n",
    "animals[1:] # From 1 till the end of the list: ['rat', 'dog']\n",
    "\n",
    "# Deleting values from a list with del\n",
    "animalsTwo = ['cat', 'rat', 'dog']\n",
    "del animalsTwo[1] # 'rat' is deleted from the list animalsTwo, no indexes are left blank; dog is index 1 right now ['cat', 'dog']\n",
    "\n",
    "# len with lists; works the same as with string values\n",
    "len([1,2,3]) # Gives 3 because there are 3 items in the list\n",
    "\n",
    "# List concatenation with +; works the same as with string values\n",
    "LijstConcat = [1,2,3] + [4,5,6] # Results in [1, 2, 3, 4, 5, 6]\n",
    "\n",
    "# List replication with *; works the same as with string values\n",
    "LijstReplicate = [1,2] * 2 # Results in [1,2,1,2] same as with strings ('hello' * 2 results in 'hellohello')\n",
    "\n",
    "# List function; convert a value into a list\n",
    "list('hello') # Returns ['h', 'e', 'l', 'l', 'o']\n",
    "\n",
    "# Determine of a value is or is not in a list with \"in\" or \"not in\" operator\n",
    "'1' in [1,2,3] # False because '1' is a string and the list only contains integers\n",
    "1 in [1,2,3] # True \n",
    "0 not in [1,2,3] # True because 0 is not in this list"
   ]
  },
  {
   "cell_type": "markdown",
   "metadata": {},
   "source": [
    "### for loop met list"
   ]
  },
  {
   "cell_type": "code",
   "execution_count": null,
   "metadata": {},
   "outputs": [],
   "source": [
    "# Range datatype in Python is eigenlijk een soort van list. Je kunt ook een for loop maken met een list. Range is een datatype met als datatype sequence. In de cursus wordt dit \"list-like\" genoemd. Je de inhoud van deze list-like objects bekijken mbv bv [0]\n",
    "\n",
    "for i in [0,1,2,3]: # Python first assigns the variable to the first item in the list (0) and I'll run the block of code. Then I'll assign the variable i to the next item in the list (1) and I'll run the block of code, until the complete list has been done. \n",
    "    print(i)"
   ]
  },
  {
   "cell_type": "code",
   "execution_count": null,
   "metadata": {},
   "outputs": [],
   "source": [
    "# Lijst maken met range\n",
    "LijstRange = list(range(0,100,1)) # Eenvoudige manier om een lijst van 0 t/m 99 te krijgen met increment van 1"
   ]
  },
  {
   "cell_type": "code",
   "execution_count": null,
   "metadata": {},
   "outputs": [],
   "source": [
    "equipment = ['pennen', 'vlammenwerpers', 'bureaustoelen', 'afvalemmers']\n",
    "for i in range(len(equipment)): # Hiermee kun je de index ophalen van elk item in de lijst\n",
    "    print(f'Index of {equipment[i]} is {i}')\n"
   ]
  },
  {
   "cell_type": "markdown",
   "metadata": {},
   "source": [
    "#### Multiple variable assignment en augmented assignment operators"
   ]
  },
  {
   "cell_type": "code",
   "execution_count": null,
   "metadata": {},
   "outputs": [],
   "source": [
    "# Meerdere items in een lijst toewijzen aan meerdere variabelen\n",
    "kat = ['dik', 'rood', 'mannelijk']\n",
    "omvang, kleur, geslacht = kat # Meerdere variabelen toewijzen aan waardes in een lijst; het aantal variabelen moet overeenkomen met het aantal variabelen\n",
    "continent, land, stad = 'Zuid-Amerika', 'Peru', 'Lima' # Meerdere waardes in een keer aan meerdere variabelen toewijzen (zonder gebruik lijst)\n",
    "\n",
    "wisselTrucA = 'AAA'\n",
    "wisselTrucB = 'BBB'\n",
    "\n",
    "wisselTrucA, wisselTrucB = wisselTrucB, wisselTrucA # Omwisselen van waardes in variabelen\n",
    "\n",
    "# Augmented assignment operators: versnelde manier om een variabele te veranderen\n",
    "SnellerToewijzen = 4\n",
    "SnellerToewijzen += 1 # Pak de variabele SnellerToewijzen en tel er 1 bij op. De variabele heeft nu 5 toegewezen als waarde. Werkt ook met -, *, / en % "
   ]
  },
  {
   "cell_type": "markdown",
   "metadata": {},
   "source": [
    "## 2-5-24 nog eens checken vanaf hier naar beneden"
   ]
  },
  {
   "cell_type": "markdown",
   "metadata": {},
   "source": [
    "### Methods (functions associated with an object)\n",
    "##### Functies die bij een specifiek datatype horen met als doel finding, removing, adding and otherwise manipulating values in the list\n",
    "\n",
    "### Checken of iets een method of member variable is met CALLABLE(): \n",
    "##### callable(reader.get_num_pages()). Reader object (van pypdf module): checken of dit een method of een member variable is mbv callable(). Als callable() == True dan is het waarschijnlijk een method"
   ]
  },
  {
   "cell_type": "code",
   "execution_count": null,
   "metadata": {},
   "outputs": [],
   "source": [
    "# Method is ongeveer hetzelfde als een functie. Elke datatype heeft eigen methods. De \"list\"-datatype heeft bijvoorbeeld de method index.\n",
    "\n",
    "# index() list Method\n",
    "lijstje = ['gehaktbal', 'pizza', 'bitterbal']\n",
    "lijstje.index('pizza') # Geeft de index van de waarde 'pizza, namelijk index = 1. Nietbestaande waardes met index geven een error. Dezelfde waarde twee keer in een lijst? index geeft dan de index van de eerste. \n",
    "\n",
    "# append() list method\n",
    "apparatuur = ['computer', 'radio', 'telefoon']\n",
    "apparatuur.append('wafelijzer') # 'wafelijzer' toevoegen aan lijst in variabele \"apparatuur\"\n",
    "\n",
    "# insert() list method\n",
    "dingetjes = ['ditje', 'datje']\n",
    "dingetjes.insert(1, 'zo-tje') # 'zo-tje' ge-insert in lijst binnen variabele \"dingetjes\" op index 1 (dus tussen 'ditje' en 'datje' in)\n",
    "\n",
    "# We don't assign the return values of the index- and append-methods to the variable. These methods return None so that means that the variable would suddenly be empty/None. After all the index- and append-methods return None and that value is then assigned to the variable. \n",
    "dingetjes = dingetjes.insert(0, 'zusje') # Dit zou de return value \"None\" van insert aan de variabele \"dingetjes\" toewijzen.\n",
    "\n",
    "# Methods horen bij één specifiek datatype; de append- en insert-methods zijn list-methods en kunnen alleen voor lists gebruikt worden. Ze kunnen niet gebruikt worden voor bijvoorbeeld string datatypes. \n",
    "hallo = 'hello'\n",
    "# hallo.append('world') # Geeft error: 'str' object has no attribute 'append'\n",
    "\n",
    "# remove() list method\n",
    "keuken = ['tafel', 'fornuis', 'afzuigkap']\n",
    "keuken.remove('afzuigkap') # Verwijdert 'afzuigkap', waar het zich ook in de lijst bevindt. \n",
    "del keuken[0] # Verwijdert de waarde met index 0 in de lijst toegewezen aan variabele \"keuken\"]. Anders dus dan keuken.remove('afzuigkap')\n",
    "\n",
    "# sort() list method. Werkt ook met string datatype. Hoofdletters worden geprioriteerd in de sortering. \n",
    "sorteren = [9,2,4,5,6,2,8,10]\n",
    "sorteren.sort(reverse=False) # Resultaat [2, 2, 4, 5, 6, 8, 9, 10] (keyword reverse). \n",
    "\n",
    "# Hoofdletters worden geprioriteerd in de sort-method van lists. De Lower-functie werkt niet op lijsten. je kunt hiervoor keyword key=str.lower gebruiken\n",
    "namen = ['Alice', 'Barry', 'annie']\n",
    "# namen.sort(key=str.lower) # Hoofdletters worden niet meer geprioriteerd boven kleine letters in de sortering. \n",
    "\n",
    "# Eerst lengte van de lijst bepalen (2). Vervolgens een range ervan maken (0,1,2). Hierna eerst 0 toewijzen aan de variabele \"i\" en door het block code heenlopen, vervolgens 1, etc.\n",
    "for i in range(len(namen)):\n",
    "    namen[i] = namen[i].lower()\n",
    "    namen[i] = namen[i].title()\n",
    "\n",
    "namen.sort()\n",
    "namen"
   ]
  },
  {
   "cell_type": "code",
   "execution_count": null,
   "metadata": {},
   "outputs": [],
   "source": [
    "# Overeenkomsten list en string; je kunt bij zowel list als string len gebruiken, slicen, in, for loops, maar dictionaries en lists zijn mutable datatype (values kunnen verwijderd, toegevoegd of veranderd worden IN PLACE, dus zonder de wijziging aan de variabele toe te voegen, bijvoorbeeld: stringVariable.upper() zal de stringVariabele niet veranderen. Deze zal nog steeds lowercase letters bevatten. Je zult stringVariabele = stringVariabele.upper() moeten doen wil je daadwerkelijk de string willen wijzigen, naar uppercase in dit geval. Bij lists is dit anders. Deze kunnen IN PLACE veranderd worden). strings en tuples zijn immutable."
   ]
  },
  {
   "cell_type": "markdown",
   "metadata": {},
   "source": [
    "### Variables that are assigned to lists contain a reference to the list, not the actual list\n",
    "#### Dit geldt voor alle mutable values (dictionaries, lists, sets) en dus niet voor immutable values (strings, tuples, numbers ) zoals strings en tuples"
   ]
  },
  {
   "cell_type": "code",
   "execution_count": null,
   "metadata": {},
   "outputs": [],
   "source": [
    "# Variables die naar andere variables verwijzen en timing hiervan\n",
    "Variabele = 42\n",
    "Verwijzing42 = Variabele\n",
    "Variabele = 100\n",
    "Verwijzing42 # Verwijzing42 bevat nog steeds 42 ondanks dat \"Variabele\" nu 100 bevat\n",
    "\n",
    "# Bij Lijsten is dit niet het geval. Wanneer je een lijst toewijst aan een variabele, wordt er eigenlijk een referentie naar de lijst opgeslagen\n",
    "EersteLijst = [1,2,3,4]\n",
    "VerwijzingEersteLijst = EersteLijst\n",
    "EersteLijst.append(5)\n",
    "VerwijzingEersteLijst # De VerwijzingEersteLijst bevat nu ook de aanpassing, in tegenstelling tot de verwijzing naar een andere variabele zoals hierboven.  \n",
    "\n",
    "# Dit geldt ook wanneer je het andersom doet zoals hieronder. Wanneer er een item in LijstVerwijzing gewijzigd wordt, wordt dit ook in Lijst gewijzigd! Er wordt dus een referentie opgeslagen naar dezelfde lijst en GEEN nieuwe lijst. \n",
    "Lijst = [1,2]\n",
    "LijstVerwijzing = Lijst\n",
    "LijstVerwijzing[0] = 'Dinges'\n",
    "Lijst\n",
    "\n",
    "# Om toch een tweede lijst te maken, kun je gebruik maken van de copy() functie. \n",
    "NogEenLijst = [1,2,3]\n",
    "NogEenLijstKopie = NogEenLijst.copy()\n",
    "NogEenLijstKopie.append(4)\n",
    "NogEenLijst # 4 Is nu niet toegevoegd aan de lijst omdat NogEenLijstKopie geen referentie naar de lijst [1,2,3] zoals hierboven, maar een directe kopie"
   ]
  },
  {
   "cell_type": "code",
   "execution_count": null,
   "metadata": {},
   "outputs": [],
   "source": [
    "# Blocks are started by indentation (and colons). Lists are one of the few exceptions where indentation does not start a new block of code. You can however also tell Python to ignore indentation by using the backslash \\\n",
    "print('testje indentation \\\n",
    "        heel veel indentation')"
   ]
  },
  {
   "cell_type": "markdown",
   "metadata": {},
   "source": [
    "### Dictionaries dictionary"
   ]
  },
  {
   "cell_type": "code",
   "execution_count": null,
   "metadata": {},
   "outputs": [],
   "source": [
    "# Dictionaries hebben key-value pairs; de keys zijn een soort van index (zoals in een list)\n",
    "MyCat = {'pelt': 'scruffy', 'age': 9, 'character': 'mean'} # pelt is the key and scruffy is the value\n",
    "MyCat['age'] # Access values by using the key: result of this is 9\n",
    "MyDog = {1: 'fat', 32: 'homesick'}\n",
    "MyDog[32] # Acces values by using the key: result of this is 'homesick\n",
    "\n",
    "# For lists the order matters\n",
    "[1,2,3] == [1,2,3] # True because same values, same order\n",
    "[1,2,3] == [3,2,1] # False because order matters\n",
    "{1: 'DnDizze', 3: 'Mossekieke'} == {3: 'Mossekieke', 1: 'DnDizze'} # True ondanks dat de volgorde anders is\n",
    "vreg = {1: 'DnDizze', 3: 'Mossekieke'}\n",
    "'DnDizze' in vreg # False, je kunt niet zoeken in de values in een dictionary met \"in\". Dit kan wel met de method values() zoals hieronder\n",
    "'DnDizze' in vreg.values() # True\n",
    "1 in vreg # True, je kunt zoeken in de keys in een dictionary met \"in\"\n",
    "\n",
    "# Dictionaries zijn mutable (net zoals lists), dus een variabele bewaart een REFERENTIE naar de dictionary ipv de dictionary zelf. Wanneer een lijst aan een variabele A wordt toegewezen en deze variabele A wordt vervolgens toegewezen aan variabele B en hierna wordt de lijst via variabele B veranderd, is de lijst in variabele A ook veranderd want er wordt een referentie opgeslagen. \n",
    "# Dictionary aanpassen\n",
    "EenTwee = {\"een\": 1, \"twee\": 2}\n",
    "EenTwee.update({\"drie\": 3})\n",
    "EenTwee # {'een': 1, 'twee': 2, 'drie': 3}"
   ]
  },
  {
   "cell_type": "markdown",
   "metadata": {},
   "source": [
    "#### Dicionary methods: keys(), values(), items(), get()"
   ]
  },
  {
   "cell_type": "code",
   "execution_count": null,
   "metadata": {},
   "outputs": [],
   "source": [
    "# Dictionary methods: keys()\n",
    "food = {'breakfast': 'eggs', 'lunch': 'ribeye', 'dinner': 'chili con carne'}\n",
    "list(food.keys()) # Returns ['breakfast', 'lunch', 'dinner']\n",
    "\n",
    "# Dictionary methods: values()\n",
    "food = {'breakfast': 'eggs', 'lunch': 'ribeye', 'dinner': 'chili con carne'}\n",
    "list(food.values()) # Returns ['eggs', 'ribeye', 'chili con carne']\n",
    "\n",
    "# Dictionary methods: items()\n",
    "food = {'breakfast': 'eggs', 'lunch': 'ribeye', 'dinner': 'chili con carne'}\n",
    "list(food.items()) # Feturns a list of two-item-tuples [('breakfast', 'eggs'), ('lunch', 'ribeye'), ('dinner', 'chili con carne')]\n",
    "\n",
    "# Je kunt dit ook in een for-loop gebruiken\n",
    "for eten in list(food.values()):\n",
    "    print(eten)\n",
    "print()\n",
    "\n",
    "# For-loop met toewijzing van individuele waardes van tuples aan verschillende variabelen\n",
    "for m,n in list(food.items()):\n",
    "    print(m, n)\n",
    "\n",
    "# Wanneer je wilt checken of een bepaalde key voorkomt \n",
    "food = {'breakfast': 'eggs', 'lunch': 'ribeye', 'dinner': 'chili con carne'}\n",
    "# food['BestaatNiet'] # Dit zou een error geven\n",
    "food.get('BestaatNiet', 'geef dit weer als het niet bestaat') # Wanneer de get() method gebruikt van een dictionary krijg je deze error niet en kun je aangeven wat weergegeven dient te worden wanneer de key niet bestaat\n",
    "food.get('breakfast')"
   ]
  },
  {
   "cell_type": "code",
   "execution_count": 14,
   "metadata": {},
   "outputs": [
    {
     "name": "stdout",
     "output_type": "stream",
     "text": [
      "0\n",
      "1\n",
      "2\n",
      "3\n",
      "4\n",
      "5\n",
      "6\n",
      "7\n",
      "8\n",
      "9\n",
      "10\n",
      "11\n",
      "12\n",
      "13\n",
      "14\n",
      "15\n",
      "16\n",
      "17\n",
      "18\n",
      "19\n",
      "20\n"
     ]
    },
    {
     "data": {
      "text/plain": [
       "{}"
      ]
     },
     "execution_count": 14,
     "metadata": {},
     "output_type": "execute_result"
    }
   ],
   "source": [
    "# Tellen hoeveel keer een letter voorkomt in een string (eigen inventie)\n",
    "# Lijst met distinct values van de zin krijgen: onvoldoende want je moet key-value pairs hebben dus een dict\n",
    "tekst = 'Dit is een stuk tekst'\n",
    "lijstTekst = list(tekst)\n",
    "\n",
    "legeLijst = []\n",
    "\n",
    "for i in lijstTekst:\n",
    "    if i not in legeLijst:\n",
    "        legeLijst.append(i)\n",
    "\n",
    "legeDict = {}\n",
    "\n",
    "for i in range(len(lijstTekst)):\n",
    "    legeDict.update(lijstTekst[i], )\n",
    "    print(i)\n",
    "\n",
    "legeDict"
   ]
  },
  {
   "cell_type": "code",
   "execution_count": null,
   "metadata": {},
   "outputs": [],
   "source": [
    "# Programma dat telt hoeveel een bepaalde letter voorkomt\n",
    "\n",
    "zin = 'Programma dat telt hoeveel een bepaalde letter voorkomt' # strings zijn list-like values waarbij elke letter een value is. Daarom kun je de inhoud bekijken mbv bv [0]. Je kunt deze dus gebruiken in een for-loop\n",
    "tellen = {}\n",
    "\n",
    "for letter in zin.upper(): # Voor elke letter in de bovenstaande zin...\n",
    "    tellen.setdefault(letter, 0) # Maak een nieuwe key aan met als default value 0\n",
    "    tellen[letter] = tellen[letter] + 1 # \n",
    "\n",
    "print(tellen)"
   ]
  },
  {
   "cell_type": "code",
   "execution_count": null,
   "metadata": {},
   "outputs": [],
   "source": [
    "woordenboek = {}\n",
    "woordenboek.setdefault(1,0)\n",
    "woordenboek[1] = woordenboek[1] + 1\n",
    "\n",
    "woordenboek"
   ]
  },
  {
   "cell_type": "code",
   "execution_count": null,
   "metadata": {},
   "outputs": [],
   "source": [
    "# pprint Library (pretty print) om bijvoorbeeld een dictionary mooier en in alfabetische volgorde weer te geven\n",
    "import pprint\n",
    "\n",
    "# Programma dat telt hoeveel een bepaalde letter voorkomt\n",
    "\n",
    "zin = 'Programma dat telt hoeveel een bepaalde letter voorkomt' # strings zijn list-like values waarbij elke letter een value is. Je kunt deze dus gebruiken in een for-loop\n",
    "tellen = {}\n",
    "\n",
    "for letter in zin.upper(): # Voor elke letter in de bovenstaande zin...\n",
    "    tellen.setdefault(letter, 0) # Maak een nieuwe key aan met als default 0\n",
    "    tellen[letter] = tellen[letter] + 1 # \n",
    "\n",
    "pprint.pprint(tellen)"
   ]
  },
  {
   "cell_type": "code",
   "execution_count": 5,
   "metadata": {},
   "outputs": [
    {
     "name": "stdout",
     "output_type": "stream",
     "text": [
      "geen\n",
      "drie\n"
     ]
    }
   ],
   "source": [
    "# for loop met dict.keys()\n",
    "pcs = {\"desktop\": \"geen\", \"laptop\": \"drie\"}\n",
    "\n",
    "for key in pcs.keys():\n",
    "    print(pcs[key]) # Dit print de values, dus \"geen\" en \"drie\""
   ]
  },
  {
   "cell_type": "markdown",
   "metadata": {},
   "source": [
    "### Data structures (e.g. dictionaries in lists)"
   ]
  },
  {
   "cell_type": "code",
   "execution_count": null,
   "metadata": {},
   "outputs": [],
   "source": [
    "# Een dictionary in een list\n",
    "MySecondCat = {\"name\": \"sultan\", \"age\": 10, \"color\": \"red\"}\n",
    "AllCats = []\n",
    "\n",
    "# Dictionaries van katten toevoegen aan de lijst AllCats\n",
    "AllCats.append(MySecondCat)\n",
    "\n",
    "AllCats.append({\"name\": \"doogie\", \"age\": 1, \"color\": \"black\"})\n",
    "AllCats.append({\"name\": \"oompa\", \"age\": 12, \"color\": \"blue\"})\n",
    "\n",
    "AllCats # This list of dictionaries is called a data structure"
   ]
  },
  {
   "cell_type": "markdown",
   "metadata": {},
   "source": [
    "### Advanced string syntax"
   ]
  },
  {
   "cell_type": "code",
   "execution_count": null,
   "metadata": {},
   "outputs": [],
   "source": [
    "# Een apostrophe geeft aan dat iets een string datatype is. Wanneer je IN een string een apostrophe ' wilt gebruiken, kun je de string ook met aanhalingstekens omhullen\n",
    "print(\"Dit is David's string\")\n",
    "\n",
    "# Je kunt ook een escape character, ofwel een backslash gebruiken\n",
    "print('Dit is toch niet David\\'s string')\n",
    "\n",
    "# Nog een manier is om drie apostrophes te gebruiken, dit is handig wanneer je een gigantische string hebt\n",
    "print('''Binnen deze string doe ik waar ik zin in heb, kijk maar eens naar dit citaat \"Foolish little brother...\" en naar dit citaat 'GEGARANDEERD'. Maar blijkbaar mag je een dergelijke string niet eindigen met een apostrophe.\n",
    "      Dit is wel handig\n",
    "        wanneer je enters wilt toevoegen, hier hoef je dus geen \\n te gebruiken''')\n",
    "\n",
    "# Wanneer je bovenstaande string in een variabele opslaat, zal Python de enters een \\n geven\n",
    "HeleLangeString = '''Binnen deze string doe ik waar ik zin in heb, kijk maar eens naar dit citaat \"Foolish little brother...\" en naar dit citaat 'GEGARANDEERD'. Maar blijkbaar mag je een dergelijke string niet eindigen met een apostrophe.\n",
    "      Dit is wel handig\n",
    "        wanneer je enters wilt toevoegen, hier hoef je dus geen \\n te gebruiken'''\n",
    "\n",
    "# Nog enkele escape characters\n",
    "# \\' Single quote \n",
    "# \\\" Double quote\n",
    "# \\t Tab\n",
    "# \\n Newline (line break)\n",
    "# \\\\ Backslash\n",
    "\n",
    "# Raw strings beginnen met een r\n",
    "print(r'Omdat dit een raw string is, worden backslashes wel getoond, kijk maar \\'. Zie je?') # Nu zijn de backslashes onderdeel van de string omdat dit een raw string is, oftewel \\ is geen escape character zoals in normale strings\n",
    "HeleLangeString\n",
    "\n",
    "# Strings lijken op lists, vandaar dat indexes, slices en de IN en NOT IN operators ook werken met strings\n",
    "'binnen' in HeleLangeString # False, want geen hoofdletter\n",
    "'Binnen' in HeleLangeString # True, want deze string bevindt zich precies op deze wijze in de variabele"
   ]
  },
  {
   "cell_type": "markdown",
   "metadata": {},
   "source": [
    "### String methods: upper, lower, isupper, islower, isalpha(letters only), isalnum(letters and numbers only), isdecimal, isspace(spaces only), istitle(titlecase only), startswith, endswith, join"
   ]
  },
  {
   "cell_type": "code",
   "execution_count": null,
   "metadata": {},
   "outputs": [],
   "source": [
    "# String waardes zijn immutable, dus ze kunnen niet in place veranderd worden\n",
    "StrVar = 'vrede zij met u'\n",
    "StrVar.upper() # Retourneert 'VREDE ZIJ MET U'\n",
    "StrVar # Retourneert nog steeds lowercase 'vrede zij met u' want string waardes zijn immutable, je kunt ze niet 'in place' wijzigen. Om deze variabele te kunnen wijzigen zou je StrVar.upper() aan nieuwe variabele moeten toewijzen.\n",
    "\n",
    "LijstVar = ['vrede', 'met', 'u']\n",
    "LijstVar.clear() \n",
    "LijstVar # Retourneert nu een lege lijst! Want list objects zijn mutable, je kunt ze 'in place' wijzigen"
   ]
  },
  {
   "cell_type": "code",
   "execution_count": null,
   "metadata": {},
   "outputs": [],
   "source": [
    "# Checken of een string upper of lowercase heeft\n",
    "UpperLower = 'Dit heeft hoofdletters'\n",
    "UpperLower.isupper() # False want niet helemaal upper\n",
    "UpperLower.islower() # False want niet helemaal lower\n",
    "\n",
    "'eerstehoofdletter'.title() # Eerstehoofdletter\n",
    "'hallo'.isalpha() # True, want alleen string\n",
    "'hallo12'.isalpha() # False, want er zitten ook cijfers in\n",
    "'hallo12'.isalnum() # True, want bevat zowel letters als nummers\n",
    "'hello'.startswith('H') # False, want begint niet met hoofdletter H\n",
    "'hello'.endswith('o') # True, want eindigt op een o\n",
    "'+'.join(['cats', 'dogs', 'mouses']) # 'cats+dogs+mouses' \n",
    "'Ik heet dn dizze'.split() # ['Ik', 'heet', 'dn', 'dizze']\n",
    "'Ik heet dn dizze'.split(' ') # ['Ik', 'heet', 'dn', 'dizze']\n",
    "'enne'.rjust(10) # Soort van pad: string met totale lengte van 10: '      enne'\n",
    "'enne'.ljust(10, '*') # 'enne******'\n",
    "'hello'.center(20) # '       hello        '\n",
    "'    hello  '.strip() # 'hello\n",
    "'@hello'.strip('@') # 'hello\n",
    "'   hello   '.lstrip() # 'hello   '\n",
    "'SpamSpamBaconSpamEggsSpam'.strip('ampS') # 'BaconSpamEggs'\n",
    "'hello dog'.replace('dog', 'cat') # 'hello cat'"
   ]
  },
  {
   "cell_type": "code",
   "execution_count": null,
   "metadata": {},
   "outputs": [],
   "source": [
    "# String formatting - onderstaande drie string formatting opties doen hetzelfde\n",
    "ali = 'Alice'\n",
    "tijdstip = '6 o clock'\n",
    "print('hello ' + ali + ', you are invited to the party at ' + tijdstip)\n",
    "print(f'hello {ali}, you are invited to the party at {tijdstip}')\n",
    "print('hello %s, you are invited to the party at %s' % (ali, tijdstip))"
   ]
  },
  {
   "cell_type": "markdown",
   "metadata": {},
   "source": [
    "### Pattern recognizition en REGEX (sectie 10)"
   ]
  },
  {
   "cell_type": "code",
   "execution_count": null,
   "metadata": {},
   "outputs": [],
   "source": [
    "Regex characters en greedy en nongreedy matching\n",
    "() = groep\n",
    "(?:) = non capturing groep; hiermee kun je icm de .findall method de gehele match retourneren, ipv alleen datgene wat in de groep staat. Een voorbeeld: re.compile(r'(?:\\d\\d\\d)?\\d\\d\\d\\d\\d\\d\\d\\d\\d\\d').\n",
    " \n",
    "? = 0 of 1. re.compile(r'(la)?') nu moet 'la' 0 of 1 keer voorkomen om als resultante hieruit te rollen. \n",
    "+ = 1 of meer; de regex MOET in ieder geval 1 keer voorkomen. Dus wanneer je re.compile(r'Bat(wo)+man') hebt, dan zal 'Batman' niet gevonden worden omdat de groep (wo) 1 keer MOET voorkomen.\n",
    "* = 0 of meer.\n",
    "{x} = de groep moet x keer voorkomen, bijvoorbeeld: re.compile(r'(la){4}').\n",
    "{x,y} = de groep moet minimaal x keer voorkomen, maar maximaal y keer. {:y} en {x:} respectievelijk de string moet van 0 tot y keer voorkomen of van x tot oneindig keer voorkomen. Python zal per default greedy matchen: bij re.compile(r'(\\d){2,3}') zal er in het geval van een te doorzoeken string zoals deze 1234567 voor 3 keer voorkomen gekozen worden ipv 2 keer. Het resultaat zou dus 123 zijn, en niet 12. Wanneer je een nongreedy match wilt, moet je dit typen {2,3}? Het resultaat zal dan 12 zijn en niet 123. Het ? betekent dus wat anders wanneer je het ná een {x,y} plaatst, ipv na een groep.\n",
    "| = dit betekent of. re.compile(r'(0031|\\+31) 6 12345678') betekent dus 0031 OF +31\n",
    " \n",
    "\\d = een digit ofwel, een cijfer (van 0 t/m 9). Je zou ook re.compile(r'0|1|2|4|5|6|7|8|9') kunnen typen (0 of 1 of 2, etc.)\n",
    "\\D = een character wat GEEN digit is oftewel, alle andere charachters dan een digit.\n",
    "\\w = een letter (denk aan woord), digit of een underscore.\n",
    "\\W = een character wat GEEN letter, digit of een underscore is.\n",
    "\\s = een space, tab of newline ofwel enter.\n",
    "\\S = een character wat GEEN space, tab of newline is.\n",
    "[xyz] = je eigen regex maken. re.compile(r'[xyz]') is hetzelfde als re.compile(r'(x|y|z)'). Wanneer je ook alle uppercase wilt kan dit zo: [xyzXYZ]. Je hoeft characters als punten overigens niet te escapen binnen de []. \n",
    "[a-z] = alle lowercase letters in het alfabet. \n",
    "[^xyz] = vind alles BEHALVE xyz.\n",
    "[xyz]{2} = vind ALLEEN xyz als het twee keer na elkaar voorkomt zoals in de string 'xyzxyz'. Bij 'xyzxyzxyz' zal dus alleen 'xyzxyz' geretourneerd worden. \n",
    "^ aan het begin van regex = de match MOET aan het begin van de te onderzoeken tekst zijn. re.compile(r'^wijk') in de tekst 'wijk uit naar kerkwijk', zal alleen resulteren in de eerste wijk, ondanks dat er ook een tweede te vinden is aan het einde van de string.\n",
    "$ aan het einde van de regex = de match MOET aan het einde van de te onderzoeken tekst zijn. re.compile(r'lijk$') in de tekst 'lijk jij op een lijk', zal alleen resulteren in de laatste lijk, ondanks dat er aan de aanvang ook lijk te vinden is. \n",
    "^xyz$ = 'xyz' moet aan het begin en het einde van de te onderzoeken tekst te vinden zijn. Met andere woorden, met re.compile(r'^xyz$') mag de enige tekst 'xyz' zijn in de te onderzoeken tekst, anders is het resultaat None. \n",
    ". = alles behalve een new line. Met één . wordt er slechts naar één character gezocht: re.compile(r'.at').findall('flat, kat, pat ,,lat vat') resulteert in ['lat', 'kat', 'pat', 'lat', 'vat']. re.compile(r'.*at') resulteert in ['flat, kat, pat ,,lat vat'].\n",
    ".* = vind alles behalve een new line \\n. .* is greedy. .*? is nongreedy. \n",
    "re.compile(r'.*', re.DOTALL) = vind alles, inclusief een new line. \n",
    "re.compile(r'xyz', re.IGNORECASE) = vind 'xyz' in lower- en uppercase. re.compile(r'xyz', re.I) doet hetzelfde.\n",
    "re.compile(r'xyz', re.VERBOSE) = mbv re.VERBOSE en drie apostrophes kun je de regex over meerdere regels verdelen en whitespaces toevoegen zodat je makkelijker comments toe kunt voegen aan onderdelen van de regex. \n",
    "re.compile(r'xyz', re.DOTALL | re.IGNORECASE | re.VERBOSE) = meerdere opties toevoegen aan tweede argument van compile function mbv |."
   ]
  },
  {
   "cell_type": "code",
   "execution_count": null,
   "metadata": {},
   "outputs": [],
   "source": [
    "# Zonder regular expressions (regex) proberen een telefoonnummer te ontdekken in tekst\n",
    "TekstMetTelefoonnummer = 'Dit is een tekst met telefoonnummer 0642290287, maar ook een tekst met andere numerieke data zoals dit 42'\n",
    "\n",
    "# Functie definieren om te bepalen wat een telefoonnumer is; hierbij is het belangrijk dat er bij elk block code een \"return False staat\", wanneer het nog niet het einde van de functie is. Anders krijg je in de onderste for-loop voor elke 10 characters een output ook al is het geen telefoonnummer\n",
    "def IsTelefoonnummer(telefoonnummer): # Parameter \"telefoonnummer\"\n",
    "    if len(telefoonnummer) !=  10: # Voor het gemak wordt er aangenomen dat het telefoonnummer 10 tekens lang is\n",
    "        return False\n",
    "    if not telefoonnummer.startswith('06'): # Voor het gemak aangenomen dat elk telefoonnummer start met 06\n",
    "        return False\n",
    "    for i in range(len(telefoonnummer)):\n",
    "        if not telefoonnummer[i].isnumeric(): # Als een teken in telefoonnumer niet numeric is...\n",
    "            return False # ... Return False\n",
    "    return True\n",
    "\n",
    "for character in range(len(TekstMetTelefoonnummer)):\n",
    "    # print(TekstMetTelefoonnummer[character:character+10])\n",
    "    stukTekst = TekstMetTelefoonnummer[character:character+10]\n",
    "    if IsTelefoonnummer(stukTekst):\n",
    "        print(stukTekst)"
   ]
  },
  {
   "cell_type": "code",
   "execution_count": null,
   "metadata": {},
   "outputs": [],
   "source": [
    "# Met regular expressions (regex) proberen een telefoonnummer te ontdekken in tekst\n",
    "import re # Regular expressions functions zijn te vinden in de re-module\n",
    "\n",
    "TelefoonNumRegex = re.compile(r'\\d\\d\\d\\d\\d\\d\\d\\d\\d') # raw string zodat \\ character niet gezien wordt als een escape character want regular expressions hebben vrij veel van deze characters. \\d betekent digit, want we zijn op zoek naar een getal (van 10 characters).compile retourneert een regex datatype\n",
    "MatchObject = TelefoonNumRegex.search('Dit is een tekst met telefoonnummer 0642290287, maar ook een tekst met andere numerieke data zoals dit 42') # regex datatype heeft een .search method wat een MatchObject retourneert\n",
    "MatchObjectAll = TelefoonNumRegex.findall('Dit is een tekst met telefoonnummers 0642290287 en 064229909, maar ook een tekst met andere numerieke data zoals dit 42') # regex datatype heeft ook een .findall method die ALLE occurrences van de regex retourneert\n",
    "print(MatchObject.group()) #MatchObjects hebben een method genaamd .group wat de gevonden tekst obv de regex retourneert\n",
    "print(MatchObjectAll)\n",
    "\n",
    "# Het stappenplan is dus:\n",
    "# DeRegex = re.compile(r'de regex die de matches gaat bepalen en een MatchObject met regex datatype retourneert')\n",
    "# MatchObject = DeRegex.search of .findall('de tekst die doorzocht moet worden')\n",
    "# MatchObject.group() die de gezochte waarde retourneert bij search of MatchObjectAll bij method .findall() waarbij er een lijst met alle gevonden occurrences retourneert"
   ]
  },
  {
   "cell_type": "code",
   "execution_count": null,
   "metadata": {},
   "outputs": [],
   "source": [
    "# Groups in regex\n",
    "import re\n",
    "\n",
    "tekstUSATelNr = 'My phonenumber is 444-333-2222'\n",
    "\n",
    "RegexTelNumUSA = re.compile(r'\\d\\d\\d-\\d\\d\\d-\\d\\d\\d\\d') # Voorbeeld regex voor USA telefoonnummer\n",
    "\n",
    "# Met haakjes kun je groepen definieren binnen regex\n",
    "RegexTelNumUSA = re.compile(r'(\\d\\d\\d)-(\\d\\d\\d-\\d\\d\\d\\d)') # Bij een USA telnummer zijn de eerste 3 cijfers de area code; daar kun je binnen regex een group voor maken met haakjes\n",
    "\n",
    "\n",
    "MatchObject = RegexTelNumUSA.search(tekstUSATelNr)\n",
    "print(f'Eerste groep binnen MatchObject is {MatchObject.group(1)}') # Retourneert eerste groep als gedefinieert door de haakjes: '444'\n",
    "print(f'Tweede groep binnen MatchObject is {MatchObject.group(2)}') # Retourneert tweede groep als gedefinieert door de haakjes: '333-2222'\n",
    "\n",
    "# Wanneer je haakjes in een tekst wilt vinden ipv de haakjes te gebruiken om groepen te definineren in je regex, moet je de haakjes escapen\n",
    "tekstUSATelNrHaakjes = 'My phonenumber is (444) 333-2222'\n",
    "\n",
    "regexTelNrUSAHaakjes = re.compile(r'\\(\\d\\d\\d\\) \\d\\d\\d-\\d\\d\\d\\d')\n",
    "MatchObjectHaakjes = regexTelNrUSAHaakjes.search(tekstUSATelNrHaakjes)\n",
    "print(MatchObjectHaakjes.group())"
   ]
  },
  {
   "cell_type": "code",
   "execution_count": null,
   "metadata": {},
   "outputs": [],
   "source": [
    "# Pipe character | in regex; gebruikt om waardes te vinden die allemaal een overeenkomstig onderdeel hebben\n",
    "import re\n",
    "\n",
    "batRegex = re.compile(r'bat(man|mobile|cave)')\n",
    "\n",
    "batTekst = 'Nadat batman had rondgecrost in zijn batmobile, lag hij te pitten in de batcave.'\n",
    "\n",
    "batMatchObject = batRegex.search(batTekst)\n",
    "batMatchObjectAll = batRegex.findall(batTekst)\n",
    "\n",
    "print(batMatchObject.group())\n",
    "print(batMatchObjectAll)"
   ]
  },
  {
   "cell_type": "code",
   "execution_count": null,
   "metadata": {},
   "outputs": [],
   "source": [
    "# regex voor specific number of repititions met behulp van o.a. vraag teken ?\n",
    "import re\n",
    "\n",
    "# ? in regex: match the preceding group 0 or 1 times (wanneer je ooit een ? moet opzoeken in een stuk tekst kan dit met behulp van escape zoals dit \\?)\n",
    "batRegex = re.compile(r'Batman|Batwoman') # Dit is hetzelfde als...\n",
    "batRegex = re.compile(r'Bat(wo)?man')# ... Dit. Het ? zegt het volgende: de groep (wo) kan 0 of 1 keer voorkomen in de tekst.\n",
    "\n",
    "# de batRegex zal in de batString hieronder 'Batman' vinden, maar wanneer er Batwoman in zou staan, zou dit ook gevonden worden\n",
    "batString = 'De avonturen van Batman'\n",
    "\n",
    "# Dus Batwoman zou ook gevonden worden, maar wanneer je Batwowoman hiervan maakt, zal dit niet gevonden worden, want ? zal slechts iets retourneren wat 0 of 1 keer voorkomt in de tekst. Om Batwowoman wel gevonden te laten worden dien je een * te gebruiken ipv een ?\n",
    "batMatchObject = batRegex.search(batString)\n",
    "print(batMatchObject.group())\n",
    "\n",
    "# Stel dat er soms 0612345678 staat, maar soms staat er 0031612345678\n",
    "Nummer = 'Mijn nummer zou dit kunnen zijn 0612345678, maar ook dit 0031612345678'\n",
    "\n",
    "NummerRegex = re.compile(r'(\\d\\d\\d)?\\d\\d\\d\\d\\d\\d\\d\\d\\d\\d')\n",
    "NonCapturingGroupNummerRegex = re.compile(r'(?:\\d\\d\\d)?\\d\\d\\d\\d\\d\\d\\d\\d\\d\\d') # findall retourneert alleen de inhoud van een groep dus zonder de ?: in het begin van de string zou er alleen ['', '003'] geretourneerd worden. (?:...)\n",
    "\n",
    "MatchObject = NummerRegex.search(Nummer) \n",
    "MatchObjectNonCapGroup = NonCapturingGroupNummerRegex.findall(Nummer) \n",
    "\n",
    "# Nu wordt er obv de NummerRegex \n",
    "print(MatchObject.group())\n",
    "print(MatchObjectNonCapGroup)\n",
    "\n",
    "# Voor de lol met een for loop en alleen de .search method de nummers eruit halen ipv met de .findall method (beide methods voor MatchObject datatype)\n",
    "LijstTekst = Nummer.split(sep=' ')\n",
    "\n",
    "LijstMetNrs = []\n",
    "\n",
    "for i in LijstTekst:\n",
    "    try: # Voor de herhaling en herinnering try block toegevoegd in een poging de komma weg te halen van het 06nummer, maar lukte helaas niet. \n",
    "        test = NummerRegex.search(i)\n",
    "        if not test.group() == None: # Als de MatchObject niet None is (er wordt None geretourneerd wanneer search niks kan vinden)...\n",
    "            LijstMetNrs.append(i) # ... append dan het nummer\n",
    "    except:\n",
    "        continue\n",
    "\n",
    "print(LijstMetNrs) # Loopt nog niet helemaal lekker omdat de komma achter het 06 nummer wordt meegenomen, maar goed genoeg voor nu"
   ]
  },
  {
   "cell_type": "code",
   "execution_count": null,
   "metadata": {},
   "outputs": [],
   "source": [
    "# Regex: character classes en findall\n",
    "import re\n",
    "\n",
    "aRegexSW = re.compile(r'[aaAA]{2}') # Zoek naar aa of AA (2 a's achter elkaar)\n",
    "print(aRegexSW.findall('Luuk Leegloper slaat Darthbord met zijn laserzwaard terwijl hij \"AAA\" schreeuwt'))\n",
    "\n",
    "GeenaRegexSW = re.compile(r'[^aaAA]{2}') # Zoek naar alles (inclusief spaties, interpunctie, etc.) BEHALVE aa of AA (2 a's achter elkaar)\n",
    "print(GeenaRegexSW.findall('Luuk Leegloper slaat Darthbord met zijn laserzwaard terwijl hij \"AAA\" schreeuwt'))"
   ]
  },
  {
   "cell_type": "code",
   "execution_count": null,
   "metadata": {},
   "outputs": [],
   "source": [
    "# String om te doorzoeken\n",
    "naam = 'Voornaam: David Achternaam: van der Meijs'\n",
    "\n",
    "# Voornaam en achternaam vinden mbv regex en .search method\n",
    "voornaam = re.compile(r'Voornaam: (.*) Achternaam: (.*)').search(naam).group(1)\n",
    "achternaam = re.compile(r'Voornaam: (.*) Achternaam: (.*)').search(naam).group(2)\n",
    "\n",
    "print(voornaam + ' ' + achternaam)\n",
    "\n",
    "# Voornaam en achternaam vinden mbv regex en .findall method\n",
    "volledigeNaam = re.compile(r'Voornaam: (.*) Achternaam: (.*)').findall(naam)\n",
    "print(volledigeNaam)\n",
    "\n",
    "# Voornaam en achternaam vinden mbv string slicing\n",
    "print(naam[naam.find(':') + 2:naam.rfind(':') - 11] + ' ' + naam[naam.rfind(':') + 2:])"
   ]
  },
  {
   "cell_type": "code",
   "execution_count": null,
   "metadata": {},
   "outputs": [],
   "source": [
    "# Ipv de .search of .findall method van de regex objects gemaakt met re.compile, gaan we nu woorden vinden en vervangen met de .sub method\n",
    "import re\n",
    "\n",
    "# Find en replace van de achternaam in onderstaande string\n",
    "teAnonimiserenString = 'Meneer Janssen heeft een afspraak met Meneer Kolder'\n",
    "regexAnon = re.compile(r'meneer (\\w)\\w*', re.IGNORECASE).findall(teAnonimiserenString) \n",
    "anon = re.compile(r'meneer (\\w)\\w*', re.IGNORECASE).sub(r'Meneer \\1', teAnonimiserenString) #\\1 betekent pak de eerste groep in elke match. Groep 1 is de (\\w) in de regex en er wordt dan voor elke match gekeken welke letter daarbij hoort (dus J en K in dit geval)\n",
    "print(anon)"
   ]
  },
  {
   "cell_type": "code",
   "execution_count": null,
   "metadata": {},
   "outputs": [],
   "source": [
    "# VERBOSE mode om bij een regex per regel comments toe te kunnen voegen. Handig voor documentatie bij grotere regex. \n",
    "re.compile(r'''                 # Drie quotes om ervoor te zorgen dat python de new lines in dit block code negeert. \n",
    "(?:(?:\\d\\d\\d\\d)|                # Landcode (non capturing group ?:), in het geval van NL 0031.\n",
    "(?:\\+31))                       # Landcode (non capturing group ?:) met een escaped +. In het geval van NL +31.\n",
    "(?:-?|\\s)                       # Een dash OF spatie tussen de landcode en het nummer die 0 of 1 keer voor mag komen zodat telefoonnummers zonder dash ook meegenomen worden. \n",
    "\\d\\s?\\d\\d\\d\\s?\\d\\s?\\d\\d\\d\\d     # Het nummer. Er mag een spatie zitten na getal 1, 4 en 5 van de 9, maar dit hoeft niet (dus zowel 612345678 als 61234 5678 als 6 1234 5678 worden gevonden).\n",
    "''', re.VERBOSE).findall('Kijk eens hier, een telefoonnumer: 0031-612345678. Hier is er nog een: +31-612345678. 0031612345678 en 0031 612345678, maar ook 0031 61234 5678 en 0031 6 1234 5678')"
   ]
  },
  {
   "cell_type": "code",
   "execution_count": null,
   "metadata": {},
   "outputs": [],
   "source": [
    "# Vervangen van tekst (zoeken en vervangen met .sub method)\n",
    "re.compile(r'meneer (\\w)\\w*', re.IGNORECASE).sub(r'Meneer \\1', 'Meneer Janssen heeft een afspraak met Meneer Kolder')"
   ]
  },
  {
   "cell_type": "markdown",
   "metadata": {},
   "source": [
    "### Files / Bestanden / Paths"
   ]
  },
  {
   "cell_type": "code",
   "execution_count": null,
   "metadata": {},
   "outputs": [],
   "source": [
    "# File paths.  /x/y whereas a relative path never starts with the root e.g. x/y\n",
    "\n",
    "# C:\\   is de root folder in Windows\n",
    "# /     is de root folder in Linux\n",
    "# \\     backslash is de folder separator in Windows\n",
    "# /     slash is de folder separator in Linux\n",
    "\n",
    "# In Python gebruik je strings om filepaths en filenames weer te geven\n",
    "'c:\\\\Alles\\\\Foto\\'s\\\\OVerig\\\\IMG_2685[1].JPG'   # De backslash wordt in Python ook gebruikt om characters te escapen. Om die reden moet de folder separator (backslash in Windows) ge-escaped worden. Tenzij...\n",
    "r\"c:\\Alles\\Foto's\\OVerig\\IMG_2685[1].JPG\"       # Je een raw string gebruikt\n",
    "\n",
    "# os module\n",
    "# Wanneer je onderstaande lijst hebt, zou je deze mappen aan elkaar kunnen breien door de .join string method...\n",
    "'//'.join(['c:', 'Alles', 'Foto\\'s'])\n",
    "\n",
    "# ... Echter, dit zou alleen in windows werken omdat de folder separator in windows \\ is. In Linux is de folder separator een / Je zou dus ook de os module kunnen gebruiken\n",
    "import os\n",
    "\n",
    "print(os.path.join('c:', 'Alles')) # os.path.join gebruikt automatisch de juiste separator afhankelijk van welke operating system je gebruikt, werkt alleen niet helemaal goed met C: en daarom...\n",
    "print(os.path.join('c:', os.sep, 'Alles')) # Kun je deze gebruiken. os.sep zal automatisch de juist separator gebruiken. \n",
    "\n",
    "# current working directory (cwd)\n",
    "# Wanneer je dus een Python programma een bestandsnaam geeft zonder path, gaat Python er vanuit dat dit in je cwd zit. \n",
    "print(os.getcwd())\n",
    "\n",
    "# cwd veranderen met change directory chdir()\n",
    "# os.chdir('c:\\\\') # Nu zal Python aannemen dat wanneer je een of ander bestand typet zonder path, dat het bestand zich in c: bevindt ipv in \n",
    "os.chdir('c:\\\\Alles\\\\Repos\\\\AutomateTheBoringStuff')\n",
    "\n",
    "# Two types of file paths, absolute and relative\n",
    "    # Absolute path starts from the root of the tree e.g. 'c:\\\\Alles\\\\Repos\\\\AutomateTheBoringStuff\\\\examplefile.png'.\n",
    "    # Relative file path never starts with the root and is relative to the cwd e.g. 'examplefile.png'. Now Python will assume that examplefile.png exists in the cwd. \n",
    "    # Relative file paths can also begin with other folders e.g. 'AutomateTheBoringStuff\\\\examplefile.png. In this case Python will assume that the cwd is 'c:\\\\Alles\\\\Repos'\n",
    "\n",
    "# os.path.abspath() Absolute path van een bestand verkrijgen\n",
    "print('Dit is het absolute path van deze png ' + os.path.abspath('Absolute and relative paths and single and double dots.png'))\n",
    "os.path.abspath('Absolute and relative paths and single and double dots.png') # Absolute path van een bestand verkrijgen\n",
    "\n",
    "# os.path.isabs() Bepalen of een bepaald path absolute is\n",
    "print('Is c:\\\\Alles\\\\Repos\\\\AutomateTheBoringStuff een absoluut path? ' + str(os.path.isabs('c:\\\\Alles\\\\Repos\\\\AutomateTheBoringStuff')))\n",
    "\n",
    "# Naam van de folder of het bestand achterhalen\n",
    "print('Het path van het volgende bestand is: ' + os.path.dirname('c:\\\\folder1\\\\folder2\\\\bestand.png'))\n",
    "print('De bestandsnaam van het volgende bestand is: ' + os.path.basename('c:\\\\folder1\\\\folder2\\\\bestand.png')) \n",
    "print('De laatste folder van dit path is: ' + os.path.basename('c:\\\\folder1\\\\folder2'))\n",
    "\n",
    "os.path.exists('c:\\\\folder1\\\\folder2') # Bestaat dit path?\n",
    "os.path.isdir('c:\\\\Alles\\\\Repos\\\\AutomateTheBoringStuff') # Is dit een folder?\n",
    "os.path.isfile('c:\\\\Alles\\\\Repos\\\\AutomateTheBoringStuff') # Is dit een bestand?\n",
    "os.path.getsize('c:\\\\Alles\\\\Repos\\\\AutomateTheBoringStuff') # Hoe groot is dit bestand in bytes?\n",
    "os.listdir('c:\\\\Alles') # Return list of strings with all the files and folders\n",
    "os.mkdir('c:\\\\Alles\\\\ExtraFolder') # Extra folder maken\n",
    "os.makedirs('c:\\\\Alles\\\\ExtraFolder\\\\SubFolder') # Extra folder inclusief subfolders maken\n",
    "\n",
    "# . en .. \n",
    "# . betekent this folder ofwel cwd. Voor relative filepaths is de .\\ optioneel, je kunt ook simpelweg \\ doen. \n",
    "# .. betekent the parent folder (dus niet meteen naar root, maar één folder hoger in de hierarchie). Wanneer je cwd c:\\Alles\\Repos\\AutomateTheBoringStuff is en je gebruikt ../../ dan zit je in c:\\Alles\n",
    "from IPython.display import Image\n",
    "Image(filename='Absolute and relative paths and single and double dots.png', width=600)\n",
    "\n"
   ]
  },
  {
   "cell_type": "code",
   "execution_count": null,
   "metadata": {},
   "outputs": [],
   "source": [
    "# Programma dat de bestanden (en niet de subfolders) in twee verschillende folders met elkaar vergelijkt met als doel erachter te komen of er bepaalde bestanden ontbreken in de ene folder ten opzichte van de andere\n",
    "import os\n",
    "\n",
    "# Paths definiëren\n",
    "PathFotoHardeschijf = 'c:\\\\Alles\\\\Foto\\'s\\\\Vrienden'\n",
    "PathFotoOnedrive = 'c:\\\\Users\\\\dvder\\\\OneDrive\\\\Alles\\\\Foto\\'s\\\\Vrienden'\n",
    "\n",
    "# Lijst met alle items in de folders van de bovenstaande paths\n",
    "FotoHardeschijf = os.listdir(PathFotoHardeschijf)   # 9 items\n",
    "FotoOnedrive = os.listdir(PathFotoOnedrive)         # 8 items\n",
    "\n",
    "# Bepalen welke lijst het meeste items heeft om te zien welke als eerste te gebruiken in de loop\n",
    "print(f'Aantal items in variabele FotoHardeschijf: {str(len(FotoHardeschijf))}\\nAantal items in variabele FotoOnedrive: {str(len(FotoOnedrive))}\\n')\n",
    "\n",
    "# Lege lijst creëren om de missende items in op te slaan\n",
    "Ontbrekend = []\n",
    "\n",
    "# Als het een bestand betreft en geen map, en het bestand niet voorkomt in variabele FotoOnedrive, zet hem dan in de lijst in variabele Ontbrekend\n",
    "for bestand in FotoHardeschijf:\n",
    "    if not os.path.isfile(os.path.abspath(os.path.join(PathFotoHardeschijf, bestand))): # Is dit geen bestand?\n",
    "        continue                                                                        # Gan dan meteen door naar het begin van de loop zonder verder te gaan naar de if-statement hieronder. Oftewel, sla folders over.\n",
    "    if bestand not in FotoOnedrive:\n",
    "        Ontbrekend.append(bestand)\n",
    "\n",
    "print(Ontbrekend)"
   ]
  },
  {
   "cell_type": "code",
   "execution_count": 42,
   "metadata": {},
   "outputs": [
    {
     "name": "stdout",
     "output_type": "stream",
     "text": [
      "Aantal items in variabele FotoHardeschijf: 10\n",
      "Aantal items in variabele FotoOnedrive: 8\n",
      "\n",
      "c:\\Alles\\Foto's\\Vrienden\\output_data.csv gekopieerd naar c:\\Users\\dvder\\OneDrive\\Alles\\Foto's\\Vrienden\n",
      "c:\\Alles\\Foto's\\Vrienden\\output_data_kopie.csv gekopieerd naar c:\\Users\\dvder\\OneDrive\\Alles\\Foto's\\Vrienden\n"
     ]
    }
   ],
   "source": [
    "# V2\n",
    "# Programma dat de bestanden (en niet de subfolders) in twee verschillende folders met elkaar vergelijkt en de ontbrekende bestanden in een nieuwe folder opslaat\n",
    "import os\n",
    "import shutil\n",
    "\n",
    "# Paths definiëren\n",
    "PathFotoHardeschijf = 'c:\\\\Alles\\\\Foto\\'s\\\\Vrienden'\n",
    "PathFotoOnedrive = 'c:\\\\Users\\\\dvder\\\\OneDrive\\\\Alles\\\\Foto\\'s\\\\Vrienden'\n",
    "PathOntbrekendeFotos = 'c:\\\\Users\\\\dvder\\\\OneDrive\\\\Alles\\\\Foto\\'s\\\\Vrienden'\n",
    "\n",
    "# Lijst met alle items in de folders van de bovenstaande paths\n",
    "FotoHardeschijf = os.listdir(PathFotoHardeschijf)   # 9 items\n",
    "FotoOnedrive = os.listdir(PathFotoOnedrive)         # 8 items\n",
    "\n",
    "# Bepalen welke lijst het meeste items heeft om te zien welke als eerste te gebruiken in de loop\n",
    "print(f'Aantal items in variabele FotoHardeschijf: {str(len(FotoHardeschijf))}\\nAantal items in variabele FotoOnedrive: {str(len(FotoOnedrive))}\\n')\n",
    "\n",
    "# Als het een bestand betreft en geen map, en het bestand niet voorkomt in variabele FotoOnedrive, zet hem dan in de lijst in variabele Ontbrekend\n",
    "for bestand in FotoHardeschijf:\n",
    "    if not os.path.isfile(os.path.abspath(os.path.join(PathFotoHardeschijf, bestand))): # Is dit geen bestand?\n",
    "        continue                                                                        # Gan dan meteen door naar het begin van de loop zonder verder te gaan naar het code-block hieronder. Oftewel, sla folders over.\n",
    "    # Komt bestand niet voor in FotoOnedrive?\n",
    "    if bestand not in FotoOnedrive:\n",
    "        for Foldername, Subfoldernames, Filenames in os.walk(PathFotoHardeschijf): # os.walk() functie nodig om daadwerkelijke absolute pad te verkrijgen. os.path.abspath() functie gaat uit van cwd dus niet voldoende in dit geval. \n",
    "            # Komt het bestand voor in de map? (Noodzakelijk aangezien je de variabele \"bestand\" aan variabele \"Foldername\" plakt. Het kan om die reden zijn je een combinatie maakt die niet bestaat zoals \"c:\\\\Alles\\\\Foto's\\\\Vrienden\\\\Oudjaar 2021\\\\output_data.csv\"). \"output_data.csv\" en \"output_data_kopie.csv\" zitten beiden tenslotte alleen in de map \"C:\\Alles\\Foto's\\Vrienden\" en niet in de map \"C:\\Alles\\Foto's\\Vrienden\\Oudjaar 2021\". \n",
    "            if bestand in Filenames: \n",
    "                shutil.copy(os.path.join(Foldername, bestand), PathOntbrekendeFotos)\n",
    "                print(f'{os.path.join(Foldername, bestand)} gekopieerd naar {PathOntbrekendeFotos}')"
   ]
  },
  {
   "cell_type": "code",
   "execution_count": null,
   "metadata": {},
   "outputs": [],
   "source": [
    "# Bestand zoeken in een lijst mbv regex: eerst de lijst mbv de .join() method veranderen in één lange string\n",
    "import re\n",
    "\n",
    "lijstFile = [\"c:\\\\Alles\\\\Foto's\\\\Vrienden\\\\Oudjaar 2021\\\\output_data.csv\", \"c:\\\\Alles\\\\Foto's\\\\Vrienden\\\\Oudjaar 2021\\\\WhatsApp Image 2021-02-16 at 18.07.04 (1).jpeg\", \"c:\\\\Alles\\\\Foto's\\\\Vrienden\\\\Oudjaar 2021\\\\WhatsApp Image 2021-02-16 at 18.07.04 (2).jpeg\", \"c:\\\\Alles\\\\Foto's\\\\Vrienden\\\\Oudjaar 2021\\\\WhatsApp Image 2021-02-16 at 18.07.04 (3).jpeg\", \"c:\\\\Alles\\\\Foto's\\\\Vrienden\\\\Oudjaar 2021\\\\WhatsApp Image 2021-02-16 at 18.07.04 (4).jpeg\", \"c:\\\\Alles\\\\Foto's\\\\Vrienden\\\\Oudjaar 2021\\\\WhatsApp Image 2021-02-16 at 18.07.04 (5).jpeg\", \"c:\\\\Alles\\\\Foto's\\\\Vrienden\\\\Oudjaar 2021\\\\WhatsApp Image 2021-02-16 at 18.07.04.jpeg\", \"c:\\\\Alles\\\\Foto's\\\\Vrienden\\\\Oudjaar 2021\\\\WhatsApp Image 2021-06-20 at 07.07.21.jpeg\"]\n",
    "\n",
    "lijstFileString = ' '.join(lijstFile)\n",
    "\n",
    "bestandFile = \"output_data.csv\"\n",
    "\n",
    "regex = r'.' + bestandFile + r'.'\n",
    "\n",
    "re.findall(regex, lijstFileString, re.IGNORECASE)"
   ]
  },
  {
   "cell_type": "code",
   "execution_count": null,
   "metadata": {},
   "outputs": [],
   "source": [
    "# Zoekfunctie: bestand zoeken in windows\n",
    "import os\n",
    "\n",
    "bestand = 'output_data.csv'\n",
    "\n",
    "for folders, subfolders, files in os.walk('c:\\\\'):\n",
    "    if bestand in files:\n",
    "        print(os.path.join(folders, bestand))"
   ]
  },
  {
   "cell_type": "code",
   "execution_count": null,
   "metadata": {},
   "outputs": [],
   "source": [
    "import os\n",
    "\n",
    "filename = 'output_data.csv'\n",
    "\n",
    "current_dir = 'c:\\\\'\n",
    "\n",
    "for root, dirs, files in os.walk(current_dir):\n",
    "    if filename in files:\n",
    "        print(os.path.abspath(os.path.join(root, filename)))"
   ]
  },
  {
   "cell_type": "markdown",
   "metadata": {},
   "source": [
    "#### Plaintext files kun je simpelweg lezen en bewerken met open in read, write of append mode. Voor complexere data zoals lijsten en dictionaries kun je de shelve module gebruiken om de file als binary op te slaan. Dit creëert drie files die je vervolgens met de shelve.open() weer kunt openen "
   ]
  },
  {
   "cell_type": "code",
   "execution_count": null,
   "metadata": {},
   "outputs": [],
   "source": [
    "# Reading plaintext files (Python scripts zijn ook plaintext files). Kunnen geopened worden met notepad e.d.\n",
    "\n",
    "# Elk ander type bestand naast plaintext files is een binary file. Deze kun je niet rechtstreeks lezen in een text editor. Je hebt hier over het algemeen modules/libraries voor in Python. \n",
    "helloFile = open('c:\\\\Alles\\\\Repos\\\\AutomateTheBoringStuff\\\\helloFile.txt') # This will return a \"file\" datatype\n",
    "content = helloFile.read() # \"File\" datatype has a .read() method that returns a string of the content of the file\n",
    "helloFile.close() # \"File\" datatype heeft ook een .close() method om de file weer te sluiten. \n",
    "# print(content)\n",
    "\n",
    "# helloFile is zojuist afgesloten met de .close() method dus moet ik de helloFile.close() uit commenten om andere methods toe te passen\n",
    "# check = helloFile.readlines() # Mbv de .readlines() method worden alle regels in een lijst opgeslagen; dit werkt blijkbaar niet wanneer eerst de .read() method toegepast wordt. Dit moet commented out zijn om deze method te kunnen gebruiken.\n",
    "# check.close()"
   ]
  },
  {
   "cell_type": "code",
   "execution_count": null,
   "metadata": {},
   "outputs": [],
   "source": [
    "# Writing plaintext files: write mode\n",
    "helloFileWrite = open('c:\\\\Alles\\\\Repos\\\\AutomateTheBoringStuff\\\\helloFileWrite.txt', 'w') # Write mode maakt eigenlijk een hele nieuwe file, net als bij een variabele wanneer je die opnieuw definieert. De gehele oude inhoud wordt weggegooid\n",
    "helloFileWrite.write('wanneer de file nog niet bestaat zoals in dit geval wordt er een nieuwe gecreëerd. \\nde write() method zal na afronding de grootte van het bestand geven in bytes') # write voegt niet automatisch \\n toe zoals de print() functie doet bij een string. Dit is een relative filepath dus de file wordt in de cwd gezet. \n",
    "helloFileWrite.close()\n",
    "\n"
   ]
  },
  {
   "cell_type": "code",
   "execution_count": null,
   "metadata": {},
   "outputs": [],
   "source": [
    "# Writing plaintext files: append mode\n",
    "helloFileWrite = open('c:\\\\Alles\\\\Repos\\\\AutomateTheBoringStuff\\\\helloFileWrite.txt', 'a') # Append mode voegt dingen toe aan de file ipv de file geheel te overschrijven. \n",
    "helloFileWrite.write('\\n\\n dit voegen we er aan toe') # Dit wordt eraan vast ge-append/union\n",
    "helloFileWrite.close() # De file is nu geopend in \"append\" mode. Om de .read() method te gebruiken moet deze geopend worden in \"read\" mode en daarvoor moet de file eerst weer afgesloten worden. \n",
    "\n",
    "helloFileWrite = open('c:\\\\Alles\\\\Repos\\\\AutomateTheBoringStuff\\\\helloFileWrite.txt', 'r')\n",
    "helloFileWrite.read()\n",
    "helloFileWrite.close()"
   ]
  },
  {
   "cell_type": "code",
   "execution_count": null,
   "metadata": {},
   "outputs": [],
   "source": [
    "# Wanneer je variabelen anders dan simpele strings wilt opslaan zoals lijsten en dictionaries, the shelve module kan daarvoor handig zijn. Dit slaat variabelen in je Python programma op als binary shelf files. \n",
    "import shelve\n",
    "\n",
    "shelfFile = shelve.open('mydata') # Dit resulteert in een shelf file object\n",
    "shelfFile['cats'] = ['Sophia', 'Autoveld', 'Haarlap']\n",
    "shelfFile.close()\n",
    "\n",
    "shelfFile = shelve.open('mydata') \n",
    "shelfFile['cats']\n",
    "shelfFile.close()\n",
    "\n",
    "# Shelf file objects lijken erg op dictionaries omdat je een soort van key-value pairs hebt (cats en wat daarbij hoort). Ze hebben zelfs .keys() en .values() methods.\n",
    "shelfFile = shelve.open('mydata')\n",
    "print(list(shelfFile.keys()))\n",
    "print(list(shelfFile.values()))"
   ]
  },
  {
   "cell_type": "code",
   "execution_count": null,
   "metadata": {},
   "outputs": [],
   "source": [
    "# with open sluit de file ook automatisch zonder dat je dat hoeft te typen. \n",
    "with open('helloFile.txt') as my_file: # Je kunt deze openen in de bekende modussen: read, write en append\n",
    "    print(my_file.read())\n",
    "\n",
    "with open('withFile', 'w') as withFile:\n",
    "    withFile.write('Dit kan dus ook gewoon met with')\n",
    "    withFile.write('en dit')"
   ]
  },
  {
   "cell_type": "markdown",
   "metadata": {},
   "source": [
    "#### Copy, move, rename, delete files and folders"
   ]
  },
  {
   "cell_type": "code",
   "execution_count": null,
   "metadata": {},
   "outputs": [],
   "source": [
    "# Bestanden kopieren, verplaatsen en hernoemen\n",
    "import shutil\n",
    "\n",
    "# Enkele file kopieren\n",
    "shutil.copy('c:\\\\Alles\\\\helloFile.txt', 'c:\\\\Alles\\\\Foto\\'s') # Kopieer c:\\\\Alles\\\\helloFile.txt naar map c:\\\\Alles\\\\Foto\\'s Je zou de file ook kunnen renamen door er een naam aan toe te voegen bij het tweede argument van de copy() functie\n",
    "\n",
    "# Volledige folder inclusief subfolders kopieren: doe maar niet\n",
    "# shutil.copytree('c:\\\\Alles\\\\Repos\\\\AutomateTheBoringStuff', 'c:\\\\Alles\\\\Repos\\\\AutomateTheBoringStuffBackup') \n",
    "\n",
    "# Bestand verplaatsen naar een nieuwe locatie\n",
    "shutil.move('c:\\\\Alles\\\\helloFile.txt', 'c:\\\\Alles\\\\Foto\\'s')\n",
    "\n",
    "# Bestand hernoemen. Dit doe je ook met de .move() functie\n",
    "shutil.move('c:\\\\Alles\\\\helloFile.txt', 'c:\\\\Alles\\\\dagFile.txt')"
   ]
  },
  {
   "cell_type": "code",
   "execution_count": null,
   "metadata": {},
   "outputs": [],
   "source": [
    "# Bestanden weggooien\n",
    "import os\n",
    "import shutil\n",
    "\n",
    "# Wat is mijn cwd\n",
    "os.getcwd()\n",
    "\n",
    "# Nu weet ik welk bestand ik ga deleten (aangezien het een relative filepath is)\n",
    "## DEZE FUNCTIES VERWIJDEREN DE FOLDERS EN BESTANDEN PERMANENTLY. ZE WORDEN NIET NAAR DE PRULLENBAK GESTUURD. Dus eerst het item wat je weg wilt gooien met onderstaande functies printen om te checken of je wel het goede bestand weggooit. ##\n",
    "# os.unlink('withFile.txt') # Deletes single file\n",
    "# os.rmdir('c:\\\\someFolder') # Deletes a folder that does not have a single file or folder in it; the folder must be empty\n",
    "# shutil.rmtree('c:\\\\someFolder') # Deletes folder. The folder does not have to be empty like with rmdir\n",
    "\n",
    "# Beter om ipv de os.unlink, os.rmdir of shutil.rmtree de send2trash module te gebruiken\n",
    "import send2trash\n",
    "\n",
    "send2trash.send2trash('c:\\\\folder1\\\\someFile.txt')"
   ]
  },
  {
   "cell_type": "code",
   "execution_count": null,
   "metadata": {},
   "outputs": [],
   "source": [
    "# Wat als je code wilt schrijven die geldt voor alle folders en mappen in een bepaalde folder (walking a directory tree) zoals rename, copy of IETS doen met alle items in een folder. \n",
    "# Hiervoor heb je os.walk() De return value voor os.walk() wordt gebruikt in for loops\n",
    "import os\n",
    "\n",
    "# Ipv slechts één waarde per iteratie zoals bij de range() functie in een for loop: for i in range(x,y): resulteert in een waarde per iteratie. De os.walk() resulteert in DRIE waardes per iteratie:\n",
    "    # Eerste waarde is de foldernaam, tweede waarde is een list met alle folders binnen die folder en derde waarde is een lijst met de namen van alle bestanden (vergelijkbaar met os.listdir())\n",
    "for folderName, subfolders, filenames in os.walk('c:\\\\Alles\\\\Chelsea'):\n",
    "    print(f'Folder is {folderName}')\n",
    "    print(f'Subfolders in {folderName} are {subfolders}')\n",
    "    print(f'Filenames in {folderName} are {filenames}\\n')"
   ]
  },
  {
   "cell_type": "code",
   "execution_count": null,
   "metadata": {},
   "outputs": [],
   "source": [
    "# Toon alleen de subfolders\n",
    "import os\n",
    "import shutil\n",
    "\n",
    "print(f\"Dit zijn de subfolders in de folder c:\\\\Alles\\\\Chelsea:\")\n",
    "\n",
    "for folderName, subfolders, filenames in os.walk('c:\\\\Alles\\\\Chelsea'):\n",
    "    # print(f'Folder is {folderName}')\n",
    "    # print(f'Subfolders in {folderName} are {subfolders}')\n",
    "    # print(f'Filenames in {folderName} are {filenames}\\n')\n",
    "\n",
    "    for subfolder in subfolders:\n",
    "        print(f'\\t{folderName}\\\\{subfolder}') # Toon alleen de subfolders\n",
    "        print(f'\\t{os.path.join(folderName, subfolder)}')\n",
    "        # os.unlink(subfolder) # PERMANENTLY DELETE all subfolders in de folderName\n",
    "        # if 'fish' in subfolder: # Als het woord 'fish' in de naam van de subfolder zit...\n",
    "        #     os.unlink(subfolder) # ... Delete dan deze subfolder. \n",
    "        # os.move() # Move naar dezelfde folder met een nieuwe naam om te renamen\n",
    "    \n",
    "    # for file in filenames:\n",
    "    #     # shutil.copy(os.path.join(folderName, file), file + '-backup') # Kopieer het bestand naar een andere map met '-backup' aan het einde van de naam van het bestand. Je gebruikt os.path.join() omdat dit OS agnostisch is (denk aan \\\\ in Windows en // in Linux)\n",
    "    #     print(f'\\t{folderName}\\\\{subfolder}\\\\{file}')"
   ]
  },
  {
   "cell_type": "markdown",
   "metadata": {},
   "source": [
    "## ERRORS"
   ]
  },
  {
   "cell_type": "markdown",
   "metadata": {},
   "source": [
    "### Debugging: raise en assert statement (create your own error messages)"
   ]
  },
  {
   "cell_type": "markdown",
   "metadata": {},
   "source": [
    "#### Note: a warning is not an exception (error) in Python"
   ]
  },
  {
   "cell_type": "code",
   "execution_count": 6,
   "metadata": {},
   "outputs": [
    {
     "ename": "ZeroDivisionError",
     "evalue": "division by zero",
     "output_type": "error",
     "traceback": [
      "\u001b[1;31m---------------------------------------------------------------------------\u001b[0m",
      "\u001b[1;31mZeroDivisionError\u001b[0m                         Traceback (most recent call last)",
      "\u001b[1;32m<ipython-input-6-221068dc2815>\u001b[0m in \u001b[0;36m<module>\u001b[1;34m\u001b[0m\n\u001b[1;32m----> 1\u001b[1;33m \u001b[1;36m4\u001b[0m\u001b[1;33m/\u001b[0m\u001b[1;36m0\u001b[0m\u001b[1;33m\u001b[0m\u001b[1;33m\u001b[0m\u001b[0m\n\u001b[0m",
      "\u001b[1;31mZeroDivisionError\u001b[0m: division by zero"
     ]
    }
   ],
   "source": [
    "# raise divide by 0 error met opzet\n",
    "4/0"
   ]
  },
  {
   "cell_type": "code",
   "execution_count": 8,
   "metadata": {},
   "outputs": [
    {
     "ename": "Exception",
     "evalue": "Dig deus het neet good",
     "output_type": "error",
     "traceback": [
      "\u001b[1;31m---------------------------------------------------------------------------\u001b[0m",
      "\u001b[1;31mException\u001b[0m                                 Traceback (most recent call last)",
      "\u001b[1;32m<ipython-input-8-e6c999be675d>\u001b[0m in \u001b[0;36m<module>\u001b[1;34m\u001b[0m\n\u001b[0;32m      1\u001b[0m \u001b[1;31m# Eigen error raisen\u001b[0m\u001b[1;33m\u001b[0m\u001b[1;33m\u001b[0m\u001b[1;33m\u001b[0m\u001b[0m\n\u001b[1;32m----> 2\u001b[1;33m \u001b[1;32mraise\u001b[0m \u001b[0mException\u001b[0m\u001b[1;33m(\u001b[0m\u001b[1;34m'Dig deus het neet good'\u001b[0m\u001b[1;33m)\u001b[0m\u001b[1;33m\u001b[0m\u001b[1;33m\u001b[0m\u001b[0m\n\u001b[0m",
      "\u001b[1;31mException\u001b[0m: Dig deus het neet good"
     ]
    }
   ],
   "source": [
    "# Eigen error raisen\n",
    "raise Exception('Dig deus het neet good')"
   ]
  },
  {
   "cell_type": "code",
   "execution_count": null,
   "metadata": {},
   "outputs": [],
   "source": [
    "# Weet je de error handling nog?\n",
    "try:\n",
    "    TryBlock - whenever error occurs here, ExceptBlock will be executed\n",
    "except:\n",
    "    ExceptBlock"
   ]
  },
  {
   "cell_type": "code",
   "execution_count": 63,
   "metadata": {},
   "outputs": [
    {
     "name": "stdout",
     "output_type": "stream",
     "text": [
      "e\n"
     ]
    }
   ],
   "source": [
    "# Programma maken dat steeds de volgende letter in het alfabet geeft van de input inclusief error messages met \"raise Exception\" en error handling met \"try\" en \"except\"\n",
    "def VolgendeAlfabet(letter):\n",
    "    # Omgaan met hoofdletters die ingevoerd worden\n",
    "    try:\n",
    "        letter = letter.lower()\n",
    "    except:\n",
    "        # Wanneer de invoer bijvoorbeeld '3' is leidt dit tot een ValueError bij .index(letter) omdat letter niet gevonden gaat worden in de lijst die het alfabet bevat. Wanneer iets niet gevonden kan worden in een lijst krijg je een ValueError.\n",
    "        try:\n",
    "            if type(int(letter)) == int:\n",
    "                raise Exception('Je mag alleen letters gebruiken als invoer.')\n",
    "        except ValueError:\n",
    "            # Wanneer de invoer geen string is raise Exception\n",
    "            if type(letter) != str:\n",
    "                raise Exception('Je mag alleen letters gebruiken als invoer.')\n",
    "            \n",
    "            # Wanneer het aantal tekens dat ingevoerd is groter of kleiner is dan 1, raise Exception\n",
    "            if len(letter) > 1 or len(letter) < 1: # != 1 was ook prima geweest\n",
    "                raise Exception('Je mag (en moet) slechts één letter gebruiken als invoer.')\n",
    "\n",
    "    # Onderstaande regels (inclusief return-statement) moeten buiten de except-blocks staan        \n",
    "    # Generate lowercase letters from ASCII values mbv List Comprehension\n",
    "    alfabet = [chr(i) for i in range(97, 123)]\n",
    "\n",
    "    # Pak de volgende index van de ingevoerde letter in de lijst die het alfabet bevat\n",
    "    index = alfabet.index(letter) + 1\n",
    "    \n",
    "    return print(alfabet[index])\n",
    "\n",
    "VolgendeAlfabet('d')"
   ]
  },
  {
   "cell_type": "markdown",
   "metadata": {},
   "source": [
    "#### error messages en logging"
   ]
  },
  {
   "cell_type": "code",
   "execution_count": 73,
   "metadata": {},
   "outputs": [
    {
     "name": "stdout",
     "output_type": "stream",
     "text": [
      "The traceback info was written c:\\Alles\\Repos\\AutomateTheBoringStuff\\error_file.txt\n",
      "The error was: \"Dit is een hele enge error!\"\n"
     ]
    }
   ],
   "source": [
    "# traceback ofwel callstack laat zien welke regels voor het probleem zorgden. \n",
    "import traceback\n",
    "import os\n",
    "\n",
    "try:\n",
    "    raise Exception('Dit is een hele enge error!')\n",
    "\n",
    "except Exception as e: # Ipv alleen \"except:\" kun je dus ook \"except Exception as e:\" doen zodat je de variabele \"e\" later nog kunt gebruiken zoals in de print-statement\n",
    "    # traceback info wegschrijven in \"error_file.txt\" mbv functie traceback.format_exc()\n",
    "    with open('error_file.txt', 'a') as error_file:\n",
    "        error_file.write(traceback.format_exc())\n",
    "    print(f'The traceback info was written {os.getcwd()}\\\\error_file.txt')\n",
    "    print(f'The error was: \"{e}\"')\n"
   ]
  },
  {
   "cell_type": "markdown",
   "metadata": {},
   "source": [
    "#### assertions: sanity checks om te checken of je code niet iets doet wat het totaal niet moet doen. assert dit == dit want deze condition moet ALTIJD kloppen\n",
    "##### assertions zijn errors voor ontwikkelaars en niet voor gebruikers\n",
    "##### assertions en raise Exception kunnen beide gebruikt worden en het is enigszins discutabel wanneer de een of de ander gebruikt dient te worden. Belangrijkste is dat je potentiele errors afvangt. Als vuistregel: user errors moeten Exceptions raisen en assertions zijn voor het detecteren van ontwikkelaars errors\n",
    "##### assertions zijn gewoon weer een andere vorm van exceptions\n",
    "##### Je gebruikt assertions ipv try en except wanneer een programma moet crashen als er aan een bepaalde condition niet voldaan wordt"
   ]
  },
  {
   "cell_type": "code",
   "execution_count": 78,
   "metadata": {},
   "outputs": [
    {
     "ename": "AssertionError",
     "evalue": "Wederom een gruwelijke en wereldeindigende error, oei oei oei",
     "output_type": "error",
     "traceback": [
      "\u001b[1;31m---------------------------------------------------------------------------\u001b[0m",
      "\u001b[1;31mAssertionError\u001b[0m                            Traceback (most recent call last)",
      "\u001b[1;32m<ipython-input-78-d0ee83fa79f6>\u001b[0m in \u001b[0;36m<module>\u001b[1;34m\u001b[0m\n\u001b[0;32m      1\u001b[0m \u001b[1;31m# assert False, 'Een gruwelijke en wereldeindigende error, oei oei oei'\u001b[0m\u001b[1;33m\u001b[0m\u001b[1;33m\u001b[0m\u001b[1;33m\u001b[0m\u001b[0m\n\u001b[0;32m      2\u001b[0m \u001b[1;32massert\u001b[0m \u001b[1;34m\"dit\"\u001b[0m \u001b[1;33m==\u001b[0m \u001b[1;34m\"dit\"\u001b[0m\u001b[1;33m,\u001b[0m \u001b[1;34m'Geen gruwelijke en wereldeindigende error, hoi hoi hoi'\u001b[0m\u001b[1;33m\u001b[0m\u001b[1;33m\u001b[0m\u001b[0m\n\u001b[1;32m----> 3\u001b[1;33m \u001b[1;32massert\u001b[0m \u001b[1;34m\"dit\"\u001b[0m \u001b[1;33m==\u001b[0m \u001b[1;34m\"dat\"\u001b[0m\u001b[1;33m,\u001b[0m \u001b[1;34m'Wederom een gruwelijke en wereldeindigende error, oei oei oei'\u001b[0m\u001b[1;33m\u001b[0m\u001b[1;33m\u001b[0m\u001b[0m\n\u001b[0m",
      "\u001b[1;31mAssertionError\u001b[0m: Wederom een gruwelijke en wereldeindigende error, oei oei oei"
     ]
    }
   ],
   "source": [
    "# assert False, 'Een gruwelijke en wereldeindigende error, oei oei oei'\n",
    "assert \"dit\" == \"dit\", 'Geen gruwelijke en wereldeindigende error, hoi hoi hoi' # Dit leidt tot assert True, dus geen error messages\n",
    "assert \"dit\" == \"dat\", 'Wederom een gruwelijke en wereldeindigende error, oei oei oei' # Dit leidt tot assert False, dus error message"
   ]
  },
  {
   "cell_type": "code",
   "execution_count": 36,
   "metadata": {},
   "outputs": [
    {
     "ename": "AssertionError",
     "evalue": "{'noordzuid': 'groen', 'oostwest': 'groen'} Er is geen enkel stoplicht groen. Dit leidt tot auto-ongelukken en mag dus niet.",
     "output_type": "error",
     "traceback": [
      "\u001b[1;31m---------------------------------------------------------------------------\u001b[0m",
      "\u001b[1;31mAssertionError\u001b[0m                            Traceback (most recent call last)",
      "\u001b[1;32m<ipython-input-36-36fb957a310f>\u001b[0m in \u001b[0;36m<module>\u001b[1;34m\u001b[0m\n\u001b[0;32m      9\u001b[0m     \u001b[1;32massert\u001b[0m \u001b[1;34m'rood'\u001b[0m \u001b[1;32min\u001b[0m \u001b[0mlicht\u001b[0m\u001b[1;33m.\u001b[0m\u001b[0mvalues\u001b[0m\u001b[1;33m(\u001b[0m\u001b[1;33m)\u001b[0m\u001b[1;33m,\u001b[0m \u001b[0mstr\u001b[0m\u001b[1;33m(\u001b[0m\u001b[0mlicht\u001b[0m\u001b[1;33m)\u001b[0m \u001b[1;33m+\u001b[0m \u001b[1;34m' Er is geen enkel stoplicht groen. Dit leidt tot auto-ongelukken en mag dus niet.'\u001b[0m \u001b[1;31m# Assert condition moet False zijn om de boodschap te triggeren\u001b[0m\u001b[1;33m\u001b[0m\u001b[1;33m\u001b[0m\u001b[0m\n\u001b[0;32m     10\u001b[0m \u001b[1;33m\u001b[0m\u001b[0m\n\u001b[1;32m---> 11\u001b[1;33m \u001b[0mstoplichtSwitch\u001b[0m\u001b[1;33m(\u001b[0m\u001b[0mstoplicht\u001b[0m\u001b[1;33m)\u001b[0m\u001b[1;33m\u001b[0m\u001b[1;33m\u001b[0m\u001b[0m\n\u001b[0m",
      "\u001b[1;32m<ipython-input-36-36fb957a310f>\u001b[0m in \u001b[0;36mstoplichtSwitch\u001b[1;34m(licht)\u001b[0m\n\u001b[0;32m      7\u001b[0m         \u001b[1;32mif\u001b[0m \u001b[0mlicht\u001b[0m\u001b[1;33m[\u001b[0m\u001b[0mkey\u001b[0m\u001b[1;33m]\u001b[0m \u001b[1;33m==\u001b[0m \u001b[1;34m\"rood\"\u001b[0m\u001b[1;33m:\u001b[0m\u001b[1;33m\u001b[0m\u001b[1;33m\u001b[0m\u001b[0m\n\u001b[0;32m      8\u001b[0m             \u001b[0mlicht\u001b[0m\u001b[1;33m[\u001b[0m\u001b[0mkey\u001b[0m\u001b[1;33m]\u001b[0m \u001b[1;33m=\u001b[0m \u001b[1;34m\"groen\"\u001b[0m\u001b[1;33m\u001b[0m\u001b[1;33m\u001b[0m\u001b[0m\n\u001b[1;32m----> 9\u001b[1;33m     \u001b[1;32massert\u001b[0m \u001b[1;34m'rood'\u001b[0m \u001b[1;32min\u001b[0m \u001b[0mlicht\u001b[0m\u001b[1;33m.\u001b[0m\u001b[0mvalues\u001b[0m\u001b[1;33m(\u001b[0m\u001b[1;33m)\u001b[0m\u001b[1;33m,\u001b[0m \u001b[0mstr\u001b[0m\u001b[1;33m(\u001b[0m\u001b[0mlicht\u001b[0m\u001b[1;33m)\u001b[0m \u001b[1;33m+\u001b[0m \u001b[1;34m' Er is geen enkel stoplicht groen. Dit leidt tot auto-ongelukken en mag dus niet.'\u001b[0m \u001b[1;31m# Assert condition moet False zijn om de boodschap te triggeren\u001b[0m\u001b[1;33m\u001b[0m\u001b[1;33m\u001b[0m\u001b[0m\n\u001b[0m\u001b[0;32m     10\u001b[0m \u001b[1;33m\u001b[0m\u001b[0m\n\u001b[0;32m     11\u001b[0m \u001b[0mstoplichtSwitch\u001b[0m\u001b[1;33m(\u001b[0m\u001b[0mstoplicht\u001b[0m\u001b[1;33m)\u001b[0m\u001b[1;33m\u001b[0m\u001b[1;33m\u001b[0m\u001b[0m\n",
      "\u001b[1;31mAssertionError\u001b[0m: {'noordzuid': 'groen', 'oostwest': 'groen'} Er is geen enkel stoplicht groen. Dit leidt tot auto-ongelukken en mag dus niet."
     ]
    }
   ],
   "source": [
    "# assertions kunnen een soort van failsafe zijn in je programma zoals onderstaand. Geen stoplicht dat rood is een condition die niet toegestaan is. \n",
    "stoplicht = {\"noordzuid\": \"rood\", \"oostwest\": \"groen\"}\n",
    "\n",
    "# Programma dat de stoplichten switched van kleur\n",
    "def stoplichtSwitch(licht):\n",
    "    for key in licht.keys():\n",
    "        if licht[key] == \"rood\":\n",
    "            licht[key] = \"groen\"\n",
    "    assert 'rood' in licht.values(), str(licht) + ' Er is geen enkel stoplicht groen. Dit leidt tot auto-ongelukken en mag dus niet.' # Assert condition moet False zijn om de boodschap te triggeren\n",
    "\n",
    "stoplichtSwitch(stoplicht)"
   ]
  },
  {
   "cell_type": "markdown",
   "metadata": {},
   "source": [
    "#### Logging"
   ]
  },
  {
   "cell_type": "code",
   "execution_count": 71,
   "metadata": {},
   "outputs": [
    {
     "name": "stderr",
     "output_type": "stream",
     "text": [
      "2024-05-12 11:03:09,082 - DEBUG - Start of program\n",
      "2024-05-12 11:03:09,084 - INFO - Start of factorial (5)\n",
      "2024-05-12 11:03:09,084 - INFO - i = 0 en total = 0 dus er wordt 0 * 0 gedaan\n",
      "2024-05-12 11:03:09,084 - INFO - i = 1 en total = 0 dus er wordt 1 * 0 gedaan\n",
      "2024-05-12 11:03:09,084 - INFO - i = 2 en total = 0 dus er wordt 2 * 0 gedaan\n",
      "2024-05-12 11:03:09,084 - INFO - i = 3 en total = 0 dus er wordt 3 * 0 gedaan\n",
      "2024-05-12 11:03:09,084 - INFO - i = 4 en total = 0 dus er wordt 4 * 0 gedaan\n",
      "2024-05-12 11:03:09,089 - INFO - i = 5 en total = 0 dus er wordt 5 * 0 gedaan\n"
     ]
    },
    {
     "data": {
      "text/plain": [
       "0"
      ]
     },
     "execution_count": 71,
     "metadata": {},
     "output_type": "execute_result"
    }
   ],
   "source": [
    "# Logging toevoegen aan een functie die niet goed werkt\n",
    "import logging\n",
    "\n",
    "# Je kunt de logging messages uitzetten met onderstaande functie. Je ziet dat er levels worden aangegeven bij logging. Er zijn 5 levels (van laag naar hoog): debug, info, warning, error en critical. \n",
    "# logging.disable(logging.CRITICAL) # Ik wil met behulp van deze functie alle log messages uitzetten die critical zijn of lager (critical is het hoogste niveau). Wanneer je dus ipv alleen logging.debug() ook logging.info gebruikt en je zet vervolgens bovenin je script logging.disable(logging.DEBUG) worden de logging.info()-berichten nog wel getoond. \n",
    "\n",
    "# De noodzakelijke code om logging aan te zetten\n",
    "logging.basicConfig(level=logging.DEBUG, format='%(asctime)s - %(levelname)s - %(message)s')\n",
    "\n",
    "# Factorial / faculteit functie (van de cursus) met fout erin\n",
    "logging.debug('Start of program') # Eerste logging bericht\n",
    "def factorial_2(n): \n",
    "    logging.debug('Start of factorial (%s)' %n) # Het % teken werkt blijkbaar hetzelfde als f'Dit is een {variabele}'\n",
    "    total = 1\n",
    "    for i in range(n + 1):\n",
    "        total *= i # Augmented assigment operator. Hetzelfde als total = total * i\n",
    "        logging.debug(f'i = {i} en total = {total} dus er wordt {i} * {total} gedaan')\n",
    "    return total\n",
    "\n",
    "factorial_2(5) # Geeft 0 als resultaat wat niet kan kloppen. Wanneer je deze code uitvoert zul je zien dat i aan het begin op 0 wordt gezet waardoor total * 0 gedaan (range()-functie start tenslotte bij 0) wordt wat vanzelfsprekend in de volgende iteraties steeds terugkomt resulterend in een eindresultaat van 0 (0 * watDanOok is tenslotte 0).\n",
    "\n",
    "# WAAROM LOGGING.DEBUG() IPV PRINT()? Je gebruikt logging.debug() of logging.info() ipv de print()-functie zodat je later niet elke print-statement die je gebruikte om te debuggen hoeft weg te halen. Wanneer je de logging messages niet meer nodig hebt kun je simpelweg bovenin je script logging.disable(logging.CRITICAL)"
   ]
  },
  {
   "cell_type": "code",
   "execution_count": null,
   "metadata": {},
   "outputs": [],
   "source": [
    "# Je log opslaan als .txt-bestand\n",
    "import logging\n",
    "\n",
    "logging.basicConfig(filename='test_logging.txt', level=logging.DEBUG, format='%(asctime)s - %(levelname)s - %(message)s') # Relative path, dus text_logging.txt wordt opgeslagen in cwd"
   ]
  },
  {
   "cell_type": "markdown",
   "metadata": {},
   "source": [
    "### Web scraping with webbrowser module"
   ]
  },
  {
   "cell_type": "code",
   "execution_count": 75,
   "metadata": {},
   "outputs": [
    {
     "name": "stdout",
     "output_type": "stream",
     "text": [
      "['c:\\\\Alles\\\\Programmas\\\\Anaconda\\\\lib\\\\site-packages\\\\ipykernel_launcher.py', '--f=c:\\\\Users\\\\dvder\\\\AppData\\\\Roaming\\\\jupyter\\\\runtime\\\\kernel-v2-17684zsCSixTLFqH0.json']\n"
     ]
    }
   ],
   "source": [
    "# webbrowser module\n",
    "import webbrowser\n",
    "import sys\n",
    "\n",
    "# webbrowser.open('https://automatetheboringstuff.com') # Opent deze website in de default browser van de OS\n",
    "\n",
    "# Door windowsknop + R te doen en vervolgens mapit.py irene vorrinkstraat 78 te typen, worden er command line variables gedefinieerd. Je kunt deze gebruiken in je script met sys.argv\n",
    "\n",
    "print(sys.argv)"
   ]
  },
  {
   "cell_type": "markdown",
   "metadata": {},
   "source": [
    "### REQUESTS module"
   ]
  },
  {
   "cell_type": "code",
   "execution_count": 1,
   "metadata": {},
   "outputs": [
    {
     "name": "stdout",
     "output_type": "stream",
     "text": [
      "The Project Gutenberg EBook of Romeo and Juliet, by William Shakespeare\n",
      "\n",
      "This eBook is for the use\n"
     ]
    }
   ],
   "source": [
    "# requests module: download simpelweg de inhoud van webpages, als de page gedownload is, is het gewoon een data in je programma net zoals alle andere variabelen in je programma.\n",
    "# Eigenlijk download de requests module een tekst file van het volgende: open website in een browser > rechtermuisknop > view page source (een html tekst file). \n",
    "import requests\n",
    "\n",
    "res = requests.get('https://automatetheboringstuff.com/files/rj.txt') # get function returns a response object, now stored in variable res\n",
    "res.status_code # Checken of dat de request gelukt is, bij status_code 200 klopt het\n",
    "\n",
    "# downloaded webpage is stored as a string in the response object's text variable\n",
    "print(res.text[:100])\n",
    "\n",
    "# Nog een manier om te checken of de download gelukt is, is met raise_for_status(). \n",
    "res.raise_for_status()\n",
    "\n",
    "# raise_for_status() functie laat een error zien wanneer er een fout was tijdens de download van het bestand en bij geen fout doet de functie niets. \n",
    "badRes = requests.get('https://automatetheboringstuff.com/files/asdfsadfdfaw3qds') # Niet bestaande url\n",
    "# badRes.raise_for_status() # Stel dat je programma moet crashen wanneer de download mislukt, kun je raise_for_status() gebruiken. Wanneer je programma moet doorgaan kun je raise_for_status() in een try and except block zetten.\n",
    "\n",
    "# Openen bestand\n",
    "with open('RomeoEnJuliet.txt', 'wb') as RJ: # Opgeslagen als RomeoEnJuliet.txt in cwd\n",
    "    for chunk in res.iter_content(10000): # iter_content method retourneert chunks of the content on each iteration through the loop. Each chunk is of the bytes datatype and you get to specify how much bytes each chunk gets to contain (10000 in this case)\n",
    "        RJ.write(chunk)"
   ]
  },
  {
   "cell_type": "markdown",
   "metadata": {},
   "source": [
    "### Web scraping with module BEAUTIFULSOUP4\n",
    "#### Web pages are plaintext files formatted as HTML. HTML can be parsed with the BeautifulSoup modulepass the string with the HTML (the webpage you downloaded with requests.get()) to the bs4.BeautifulSoup() function to get a Soup object. Then use .select() method on the Soup object with the CSS selector. "
   ]
  },
  {
   "cell_type": "code",
   "execution_count": 1,
   "metadata": {},
   "outputs": [
    {
     "name": "stdout",
     "output_type": "stream",
     "text": [
      "None. Dus .get() is gelukt\n",
      "\n",
      "<!doctype html>\n",
      "<html data-n-head-ssr lang=\"nl-NL\" data-n-head=\"%7B%22lang%22:%7B%22ssr%22:%22nl-NL%\n",
      "\n"
     ]
    },
    {
     "data": {
      "text/plain": [
       "'191\\n\\n        koopwoningen'"
      ]
     },
     "execution_count": 1,
     "metadata": {},
     "output_type": "execute_result"
    }
   ],
   "source": [
    "import bs4 # beautifulsoup4\n",
    "import requests\n",
    "\n",
    "# Headers moeten toegevoegd worden omdat Funda niet-menselijke gebruikers blokkeert. Je kunt dit bypassen mbv de User-Agent key-value pair in een header te zetten. Je user agent kun je vinden dmv google: \"what is my current user agent\"\n",
    "# Andere header opties dan 'User-Agent' zijn 'Content-Type', 'Authorization', 'Accept', etc. (zie Postman header tab bij een call voor meer). \n",
    "headers = {'User-Agent': 'Mozilla/5.0 (Windows NT 10.0; Win64; x64) AppleWebKit/537.36 (KHTML, like Gecko) Chrome/124.0.0.0 Safari/537.36'}\n",
    "\n",
    "# GET request met filters: regio = Noord-Limburg en perceel >= 750\n",
    "response = requests.get('https://www.funda.nl/zoeken/koop?selected_area=%5B%22regio-noord-limburg%22%5D&sort=%22date_down%22&plot_area=%22750-%22', headers = headers) # Resultaat van .get() is een response object\n",
    "\n",
    "# Checken of de .get() gelukt is\n",
    "print(f'{response.raise_for_status()}. Dus .get() is gelukt\\n') # Resultaat is None dus is gelukt\n",
    "\n",
    "# .text is een member variable van een response object\n",
    "print(f'{response.text[:100]}\\n') # Tekst van de HTML page om te checken wat er staat. \n",
    "\n",
    "# BeautifulSoup finds HTML elements in the webpage that was downloaded\n",
    "soup = bs4.BeautifulSoup(response.text) \n",
    "\n",
    "# HTML van soup parsen. \n",
    "# Je krijgt onderstaande CSS path/selector door naar de webpagina te gaan, rechtermuisknop en inspect op het element dat je wilt hebben van de webpagina, vervolgens rechtermuisknop op de HTML vertaling in het inspect scherm > copy > CSS element (in Chrome heet het \"Copy selector\"). In dit geval kijk ik naar het onderdeel \"195 koopwoningen\"\n",
    "aantalHuizen = soup.select('#__layout > div > div > section > main > div > div.relative.m-auto.w-full.md\\:w-\\[760px\\].xl\\:flex.xl\\:w-full.xl\\:items-start.xl\\:justify-center > div.md\\:w-\\[760px\\].xl\\:mx-4 > div:nth-child(1) > div.border-neutral-20.border-y.p-4 > h1 > div.truncate.font-semibold') # CSS selectors, kind of like regex. How do I specify a particular part of the HTML that i want to look at. Resultaat van soup.select() is een lijst met daarin het HTML element dat je wilde hebben\n",
    "\n",
    "aantalHuizen[0] # Lijst bevat slechts een element dus met index 0 krijg je deze. \n",
    "aantalHuizen[0].text # Net als een response object wat je krijgt van .get() hebben element objects ook een .text member variabele waarmee je de inhoud van de lijst krijgt in een string.\n",
    "aantalHuizen[0].text.strip() # strip() haalt alle \\n eruit die voor of na de string zitten"
   ]
  },
  {
   "cell_type": "code",
   "execution_count": 54,
   "metadata": {},
   "outputs": [
    {
     "name": "stdout",
     "output_type": "stream",
     "text": [
      "<bound method Response.raise_for_status of <Response [200]>>\n",
      "\n"
     ]
    }
   ],
   "source": [
    "import bs4\n",
    "import requests\n",
    "import datetime\n",
    "import pandas as pd\n",
    "\n",
    "# Programma schrijven dat aantal koopwoningen met filters Noord-Limburg en perceelgrootte >= 750 dagelijks opzoekt en opslaat\n",
    "\n",
    "# Webpagina downloaden mbv requests.\n",
    "headers = {'User-Agent': 'Mozilla/5.0 (Windows NT 10.0; Win64; x64) AppleWebKit/537.36 (KHTML, like Gecko) Chrome/124.0.0.0 Safari/537.36'}\n",
    "response = requests.get('https://www.funda.nl/zoeken/koop?selected_area=%5B%22regio-noord-limburg%22%5D&sort=%22date_down%22&plot_area=%22750-%22', headers = headers)\n",
    "\n",
    "# Checken of de request / download van Webpagina gelukt is. Als het gelukt is geeft de functie None terug, als het niet gelukt is zal het programmma hier crashen zoals bedoeld. \n",
    "response.raise_for_status()\n",
    "\n",
    "# Mbv BeautifulSoup de HTML elementen in de gedownloade webpagina detecteren.\n",
    "soup = bs4.BeautifulSoup(response.text)\n",
    "\n",
    "# CSS path/selector van aantal woningen op de webpagina eruit pikken en deze gebruiken om de HTML elementen te filteren zodat alleen het aantal huizen overblijft. Resultaat is een lijst met het HTML element met het aantal huizen. \n",
    "aantalHuizenRaw = soup.select('#__layout > div > div > section > main > div > div.relative.m-auto.w-full.md\\:w-\\[760px\\].xl\\:flex.xl\\:w-full.xl\\:items-start.xl\\:justify-center > div.md\\:w-\\[760px\\].xl\\:mx-4 > div:nth-child(1) > div.border-neutral-20.border-y.p-4 > h1 > div.truncate.font-semibold')\n",
    "\n",
    "# Alleen het getal van het aantal huizen overhouden. De lijst heeft slechts één item, deze wordt mbv text in een string veranderd en vervolgens kunnen de \\n met .strip() weggehaald worden omdat het nu een string is door [0]. Er zitten nog wat \\n tussen het getal en wat string objecten. De eerste hiervan vinden en op basis daarvan de string slicen. Zo blijft het getal over.\n",
    "stripStr = aantalHuizenRaw[0].text.strip()\n",
    "aantalHuizen = stripStr[:stripStr.find('\\n')]\n",
    "\n",
    "# Datum en tijd van aanroepen script.\n",
    "opvraagdatum = datetime.datetime.now().strftime('%Y-%m-%d %H:%M:%S')\n",
    "\n",
    "# Nieuw record om toe te voegen aan de file aantalHuizen.csv (deze moet persisted zijn; een lege lijst wordt in dit script steeds opnieuw gemaakt dus dan zal een nieuw record altijd het eerste record zijn omdat de lijst wederom leeg gedefinieerd wordt).\n",
    "nieuwRecord = ';'.join([opvraagdatum, aantalHuizen])\n",
    "\n",
    "# Nieuw record toevoegen aan 'aantalHuizen.csv'. \\n zodat de records steeds op een nieuwe regel verschijnen. \n",
    "with open('aantalHuizen.csv', 'a') as bestand:\n",
    "    bestand.write('\\n' + nieuwRecord)\n"
   ]
  },
  {
   "cell_type": "markdown",
   "metadata": {},
   "source": [
    "#### Web scraping met Selenium. Met Selenium kun je de browser besturen dmv het script. "
   ]
  },
  {
   "cell_type": "code",
   "execution_count": 26,
   "metadata": {},
   "outputs": [],
   "source": [
    "from selenium import webdriver\n",
    "from selenium.webdriver.common.by import By\n",
    "\n",
    "browser = webdriver.Chrome() # Deze functie resulteert in een browser object; het opent een nieuwe browser\n",
    "browser.get('https://www.automatetheboringstuff.com')\n",
    "\n",
    "# Stel dat je op een bepaalde link wilt klikken op en een website. Je hebt hiervoor wederom het bijbehoren CSS path nodig. \n",
    "element = browser.find_element(by='css selector', value='body > div > main > div > ul:nth-child(19) > li:nth-child(1) > a') # Web element wordt opgeslagen in variabele \"element\".\n",
    "element.click()\n",
    "\n",
    "# Stel dat je meerdere elementen wilt opslaan in een variabelen. Hiervoor kun je find_elements() gebruiken\n",
    "# elements = browser.find_elements(by='css selector', value='p') # 'p' is alle paragraph elements. Resultaat is een lijst met alle gevonden elementen.\n",
    "elements = browser.find_elements(By.CSS_SELECTOR, value='p') # Andere manier om bovenstaande regel te schrijven. Je hebt hier wel \"By\" voor nodig (zie bovenstaande imports). \n",
    "\n",
    "# # Je hebt ook functies die je andere opties geven dan het zoeken mbv CSS selector\n",
    "# element_name = browser.find_element(By.NAME, 'The Big Book of Small Python Projects') # Zoeken op naam werkt nog niet. Documentatie: https://selenium-python.readthedocs.io/locating-elements.html"
   ]
  },
  {
   "cell_type": "code",
   "execution_count": 1,
   "metadata": {},
   "outputs": [],
   "source": [
    "# Nu we weten hoe we op dingen moeten klikken, gaan we leren hoe we op een webpagina dingen kunnen invoeren (zoals een username en password)\n",
    "from selenium import webdriver\n",
    "from selenium.webdriver.common.by import By\n",
    "from selenium.webdriver.support.wait import WebDriverWait\n",
    "from selenium.webdriver.support import expected_conditions as EC\n",
    "\n",
    "# Browser instellen\n",
    "browserFunda = webdriver.Chrome()\n",
    "browserFunda.get('https://www.funda.nl')\n",
    "\n",
    "# Cookies wegklikken\n",
    "# elementCookies = browserFunda.find_element(By.CSS_SELECTOR, value='#didomi-notice-disagree-button > span') # Eerste poging. De cookies pop-up komt echter pas wanneer de pagina al geladen is dus kan deze aanpak het CSS path van de cookies pop-up niet vinden.\n",
    "elementCookies = WebDriverWait(browserFunda, 10).until(EC.presence_of_element_located((By.CSS_SELECTOR, '#didomi-notice-disagree-button > span'))) # Tweede poging en dit werkt. Cookies worden weggeklikt, maar nu moet ik bewijzen dat ik geen robot ben.\n",
    "elementCookies.click()\n",
    "\n",
    "# Bewijzen dat ik geen robot ben. Nog niet gelukt.\n",
    "# elementRobot = browserFunda.find_element(By.CSS_SELECTOR, value='#recaptcha-anchor > div.recaptcha-checkbox-border')\n",
    "# elementRobot = WebDriverWait(browserFunda, 10).until(EC.presence_of_element_located((By.CSS_SELECTOR, '#recaptcha-anchor > div.recaptcha-checkbox-border')))\n",
    "# elementRobot.click()\n",
    "# Tot zo ver nog niet gelukt.\n",
    "\n",
    "\n"
   ]
  },
  {
   "cell_type": "code",
   "execution_count": null,
   "metadata": {},
   "outputs": [],
   "source": [
    "# Nieuwe poging met andere website - ook mislukt, geen zin meer om verder te zoeken\n",
    "browserDandy = webdriver.Chrome()\n",
    "browserDandy.get('https://www.datadandies.nl')\n",
    "\n",
    "# Op zoekpictogram klikken\n",
    "elementZoeken = browserDandy.find_element(By.CSS_SELECTOR, value='#menu-menu > li.astm-search-menu.is-menu.is-dropdown.menu-item > a > svg > path')\n",
    "elementZoeken.send_keys('ZoekDit') # .send_keys() method zal iets in de browser typen\n",
    "elements.submit() # .submit() method zal het klikken op een submit knop simuleren"
   ]
  },
  {
   "cell_type": "code",
   "execution_count": 7,
   "metadata": {},
   "outputs": [],
   "source": [
    "# Andere functies van Selenium om de browser te besturen\n",
    "browserDandy = webdriver.Chrome()\n",
    "browserDandy.get('https://www.datadandies.nl')\n",
    "\n",
    "# Op link \"Blog\" klikken\n",
    "elementBlog = browserDandy.find_element(By.CSS_SELECTOR, value='#menu-item-30 > a > span')\n",
    "elementBlog.click()\n",
    "\n",
    "# Andere functies om de browser te besturen\n",
    "browserDandy.back()\n",
    "browserDandy.forward()\n",
    "browserDandy.refresh()\n",
    "browserDandy.quit()\n",
    "elementZoeken.send_keys('ZoekDit') # .send_keys() method zal iets in de browser typen\n",
    "elements.submit() # .submit() method zal het klikken op een submit knop simuleren"
   ]
  },
  {
   "cell_type": "code",
   "execution_count": 13,
   "metadata": {},
   "outputs": [
    {
     "name": "stdout",
     "output_type": "stream",
     "text": [
      "Wij zijn Business Intelligence- & data enthousiastelingen. Met vele jaren ervaring in elke schakel van de keten van Business Intelligence denken wij in oplossingen voor onze klanten.\n",
      "Skip to content\n",
      "Data Dandies\n",
      "Business Intelligence & Data Oplossingen\n",
      "HOME\n",
      "PORTFOLIO\n",
      "BLOG\n",
      "OVER ONS\n",
      "C\n"
     ]
    }
   ],
   "source": [
    "# Hoe krijg je een onderdeel van de website met Selenium\n",
    "browserDandy = webdriver.Chrome()\n",
    "browserDandy.get('https://www.datadandies.nl')\n",
    "\n",
    "\n",
    "# Tekst van een deel van deze pagina ophalen\n",
    "element = browserDandy.find_element(By.CSS_SELECTOR, value='#section-home-inner > article.section1.one_third > div > div.iconmain > p')\n",
    "print(element.text)\n",
    "\n",
    "# Tekst van de gehele pagina ophalen\n",
    "elementGeheel = browserDandy.find_element(By.CSS_SELECTOR, value='html')\n",
    "print(elementGeheel.text[:100])\n",
    "\n",
    "# Browser afsluiten\n",
    "browserDandy.quit()"
   ]
  },
  {
   "cell_type": "markdown",
   "metadata": {},
   "source": [
    "### Met Excel bestanden werken\n",
    "#### Best practise om een bestaand Excel bestand wat je wijzigt met Python op te slaan met een nieuwe naam (mochten er bugs in je Python code zitten)"
   ]
  },
  {
   "cell_type": "code",
   "execution_count": 26,
   "metadata": {},
   "outputs": [
    {
     "name": "stdout",
     "output_type": "stream",
     "text": [
      "1 Apples\n",
      "2 Cherries\n",
      "3 Pears\n",
      "4 Oranges\n",
      "5 Apples\n",
      "6 Bananas\n",
      "7 Strawberries\n"
     ]
    }
   ],
   "source": [
    "import openpyxl\n",
    "\n",
    "# Excel openen\n",
    "workbook = openpyxl.load_workbook('example.xlsx') # Resulteert in een workbook object\n",
    "\n",
    "# Specifieke sheet openen\n",
    "sheet1 = workbook['Sheet1'] # Resulteert in worksheet object\n",
    "\n",
    "# Welke sheets zitten er in het workbook?\n",
    "workbook.sheetnames # Resulteert in een lijst met de namen van alle worksheets in de workbook\n",
    "\n",
    "# Één specifieke cel ophalen\n",
    "cellA1 = sheet1['A1'] # Resulteert in een cell object\n",
    "cellA1.value # Om de waarde op te halen die in deze cell zit moet je de member variable .value gebruiken\n",
    "str(workbook['Sheet1']['A1'].value) # String van maken\n",
    "\n",
    "# Obv cijfers waardes ophalen. Handig voor loops\n",
    "sheet1.cell(row=1, column=2).value # Resulteert in een cell object. 1 is de éérste row (en dus niet 0 zoals bij e.g. lists). \n",
    "\n",
    "# Loop\n",
    "for i in range(1,8):\n",
    "    print(i, sheet1.cell(row=i, column=2).value)"
   ]
  },
  {
   "cell_type": "code",
   "execution_count": 18,
   "metadata": {},
   "outputs": [],
   "source": [
    "import openpyxl\n",
    "\n",
    "# Nieuw workbook maken\n",
    "wb = openpyxl.Workbook()\n",
    "\n",
    "# Welke sheets zitten er in dit workbook?\n",
    "wb.sheetnames\n",
    "\n",
    "# Sheet object maken\n",
    "sheet = wb['Sheet']\n",
    "\n",
    "# Checken of cell A1 leeg is\n",
    "sheet['A1'].value == None\n",
    "\n",
    "# Cell A1 wijzigen/vullen\n",
    "sheet['A1'] = 42\n",
    "sheet['A2'] = 'Hello'\n",
    "sheet['A1'].value\n",
    "\n",
    "# Nieuwe sheet maken\n",
    "NieuweSheet = wb.create_sheet(index=0, title='NieuweSheet') # Nieuwe sheet die vooraan geplaatst wordt met keyword-argument index=0\n",
    "\n",
    "# Oude sheet hernoemen\n",
    "sheet.title = 'OudeSheet'\n",
    "\n",
    "# Workbook opslaan \n",
    "wb.save('c:\\\\Alles\\\\PythonExcel.xlsx')"
   ]
  },
  {
   "cell_type": "markdown",
   "metadata": {},
   "source": [
    "### PDF \n",
    "#### PDFs zijn binary files waar tekst, plaatjes, etc. in zit (vrij complex dus)"
   ]
  },
  {
   "cell_type": "code",
   "execution_count": 46,
   "metadata": {},
   "outputs": [
    {
     "name": "stdout",
     "output_type": "stream",
     "text": [
      "False\n"
     ]
    }
   ],
   "source": [
    "import pypdf \n",
    "\n",
    "# Open de pdf in binary mode omdat pdfs binary files zijn\n",
    "pdfFile = open('meetingminutes1.pdf', 'rb')\n",
    "reader = pypdf.PdfReader(pdfFile) # Resulteert in een reader object\n",
    "\n",
    "# checken of dit een method of een member variable is mbv callable(). Als callable() == True dan is het waarschijnlijk een method\n",
    "print(callable(reader.get_num_pages()))\n",
    "\n",
    " # reader objects hebben een member variable genaamd .get_num_pages()\n",
    "reader.get_num_pages()\n",
    "\n",
    "# Een bepaalde pagina oppikken met .page() method\n",
    "page = reader.pages[0] # Resulteert in een page object. Dit is een list-like object. Je kunt het eerste element hiervan bekijken mbv [0]\n",
    "\n",
    "# Tekst van het eerste element van het PDF document eruit halen: gaat niet perfect omdat PDFs hele complexe bestanden zijn\n",
    "page.extract_text()\n",
    "\n",
    "# Alle text onttrekken zonder deze op te slaan mbv for loop.\n",
    "# for page in range(len(reader.pages)):\n",
    "    # print(reader.pages[page].extract_text())\n",
    "\n",
    "# Alle tekst opslaan in een grote string\n",
    "# Lege string aanmaken waaraan het resultaat van elke iteratie van de for loop in opgeslagen wordt\n",
    "alleTekst = ''''''\n",
    "\n",
    "for page in range(len(reader.pages)):\n",
    "    regel = reader.pages[page].extract_text()\n",
    "    alleTekst += regel # Augmented assigment operator: dit is hetzelfde als alleTekst = alleTekst + regel\n",
    "\n",
    "# print(alleTekst)\n",
    "\n",
    "# Kombineer twee pdf-bestanden\n",
    "# Eerst bestanden openen (in dit geval voor het gemak gewoon hetzelfde bestand in twee verschillende variabelen)\n",
    "pdfFile1 = open('meetingminutes1.pdf', 'rb')\n",
    "pdfFile2 = open('meetingminutes1.pdf', 'rb')\n",
    "\n",
    "reader1 = pypdf.PdfReader(pdfFile1)\n",
    "reader2 = pypdf.PdfReader(pdfFile2)\n",
    "\n",
    "# Een \"nieuwe pdf\" maken die opgeslagen wordt in een variabele\n",
    "write = pypdf.PdfWriter()\n",
    "\n",
    "# Alle pagina's van pdfFile1 toevoegen aan de pdf in variabele \"write\"\n",
    "for pageNum in range(reader1.get_num_pages()):\n",
    "    page = reader1.get_page(pageNum)\n",
    "    write.add_page(page)\n",
    "\n",
    "# Alle pagina's van pdfFile2 toevoegen aan de pdf in variabele \"write\"\n",
    "for pageNum in range(reader2.get_num_pages()):\n",
    "    page = reader2.get_page(pageNum)\n",
    "    write.add_page(page) \n",
    "\n",
    "# Nieuwe pdf van variabele \"write\" opslaan als \"combinedMinutes.pdf\"\n",
    "outputPDF = open('combinedMinutes.pdf', 'wb') # Write binary\n",
    "write.write(outputPDF)\n",
    "\n",
    "# Geopende bestanden afsluiten\n",
    "outputPDF.close()\n",
    "pdfFile1.close()\n",
    "pdfFile2.close()"
   ]
  },
  {
   "cell_type": "markdown",
   "metadata": {},
   "source": [
    "### Word documenten"
   ]
  },
  {
   "cell_type": "code",
   "execution_count": 131,
   "metadata": {},
   "outputs": [
    {
     "name": "stdout",
     "output_type": "stream",
     "text": [
      "Dit is een titel\n",
      "Dit is een heading\n",
      "Dit is tekst, dit is een schuingedrukte en onderstreepte tekstdit is dikgedrukte en onderstreepte tekst\n",
      "Hier heb je nummers, dit is nummer 1\n",
      "Nummer 2\n",
      "Nummer 3 maar dan in normale tekst (niet dikgedrukt etc.)\n"
     ]
    }
   ],
   "source": [
    "import docx\n",
    "\n",
    "# In vergelijking met plaintext heeft docx veel structuur/hierarchie. Hoogste niveau in Python is document object > paragraph objects > run objects\n",
    "d = docx.Document(r\"C:\\Alles\\Repos\\AutomateTheBoringStuff\\Word document voor automate the boring stuff.docx\")\n",
    "p = d.paragraphs[2] # Wederom list-like/indexable object waardoor je toegang kunt krijgen met indexen en []. Met .text member variable kun je de inhoud van het eerste element bekijken \n",
    "d.paragraphs[0].text\n",
    "\n",
    "# Elke paragraaf bevat een lijst met run-objecten. Wederom toegang tot te krijgen mbv member variable text\n",
    "p.runs[0].text\n",
    "p.runs[1].italic # Checken of een run in een paragraph italic is, in dit geval wel dus True. Anders is het resultaat None.\n",
    "\n",
    "# Stuk tekst onderstrepen\n",
    "p.runs[1].underline = True # Nu is p.runs[1] zowel italic/schuingedrukt als onderstreept\n",
    "p.runs[1].text = 'dit is een schuingedrukte en onderstreepte tekst'\n",
    "d.save(r\"C:\\Alles\\Repos\\AutomateTheBoringStuff\\Word document voor automate the boring stuff2.docx\")\n",
    "\n",
    "# Stijl van een paragraaf wijzigen\n",
    "# Eerste nieuwe document openen en toewijzen aan variabele d2\n",
    "d2 = docx.Document(r\"C:\\Alles\\Repos\\AutomateTheBoringStuff\\Word document voor automate the boring stuff2.docx\")\n",
    "\n",
    "# Vervolgens de stijl bekijken\n",
    "d2.paragraphs[0].style # ParagraphStyle Title\n",
    "p2 = d2.paragraphs[1]\n",
    "\n",
    "p2.style = 'Title' # was style \"Heading 1\", wordt style \"Title\". Overigens blijkbaar een mutable object zoals lists en dictionaries want je kunt in place editen\n",
    "d2.save(r\"C:\\Alles\\Repos\\AutomateTheBoringStuff\\Word document voor automate the boring stuff2.docx\")\n",
    "\n",
    "# Nieuw word document maken\n",
    "d3 = docx.Document() # Deze regel wordt steeds opnieuw uitgevoerd wanneer je execute waardoor het document elke keer weer opnieuw gemaakt zal worden\n",
    "d3.add_paragraph('Dit is een paragraph')\n",
    "p3 = d3.paragraphs[0] # Eerste paragraaf van het document object pakken\n",
    "p3.add_run(text='Een extra run') # Extra run aanmaken. Dit kan volgens de cursus alleen op het einde van de laatste run. De cursus is echter al wat ouder en wellicht kan dit inmiddels wel. Niet gecheckt. \n",
    "p3.runs[1].bold = True # Tweede run dikgedrukt/bold maken\n",
    "d3.save('PythonDocument.docx')\n",
    "\n",
    "# Alle tekst uit een document krijgen als een string - Optie 1 met een string\n",
    "# Eerst lege string maken \n",
    "docStr = ''''''\n",
    "for paragraph in range(len(d2.paragraphs)):\n",
    "    # print(d2.paragraphs[paragraph].text)\n",
    "    docStr += d2.paragraphs[paragraph].text + '\\n' # Augmented assignment operator; dit is hetzelfde als docStr = docStr+paragraph\n",
    "\n",
    "# Alle tekst uit een document krijgen als een string - Optie 1 met een lijst en een functie\n",
    "# Eerst lege lijst maken \n",
    "def StringVanDoc(document):\n",
    "    # Lege lijst maken om later de paragraphs.text aan te appenden\n",
    "    docList = []\n",
    "\n",
    "    # In elke iteratie een paragraph toevoegen aan de lijst docList\n",
    "    for para in d2.paragraphs:\n",
    "        docList.append(para.text)\n",
    "\n",
    "    # De items in de lijst aan elkaar concaten mbv .join() method\n",
    "    return print('\\n'.join(docList))\n",
    "\n",
    "StringVanDoc(d2)"
   ]
  },
  {
   "cell_type": "markdown",
   "metadata": {},
   "source": [
    "### email / mail"
   ]
  },
  {
   "cell_type": "code",
   "execution_count": null,
   "metadata": {},
   "outputs": [],
   "source": [
    "import smtplib\n",
    "# Mails verzenden\n",
    "# SMTP = Simple Mail Transfer Protocol voor verzenden mails\n",
    "\n",
    "# Connection object maken\n",
    "conn = smtplib.SMTP(host='smtp-mail.outlook.com', port=587) # Domain name en port number. Ports zijn onderdeel van het internet adres waarnaar je data stuurt. Elke emailprovider heeft hun eigen domeinnaam voor de SMTP-servers. \n",
    "type(conn) \n",
    "\n",
    "# Connectie maken met de server\n",
    "conn.ehlo() # .ehlo() method. Je krijgt een tuple terug alles met 200 betekent OK, dus 250 is OK. Tweede object in de tuple heeft \"bytes\" datatype en ziet eruit als een string, maar begint met een \"b\"\n",
    "# conn.ehlo()[1].decode(\"utf-8\")\n",
    "\n",
    "# Start TLS encryption zodat wanneer we een wachtwoord versturen dat het encrypted is\n",
    "conn.starttls() # Resultaat is een tuple: (220, b'2.0.0 SMTP server ready'). 220 is wederom een 200-code dus alles is OK. \n",
    "\n",
    "# Login - Lijkt niet te werken\n",
    "conn.login('mail', 'password') # Gmail heeft application specific passwords. Dat betekent dat je google wachtwoord wellicht niet het wachtwoord is wat je hier kunt gebruiken. Je kunt dit app specific wachtwoord vinden door te googlen naar \"google app specific password\". Zo kun je een wachtwoord genereren specifiek voor bijvoorbeeld je Python programma's. \n",
    "\n",
    "# Een email versturen\n",
    "conn.sendmail('from mailadres', 'to mailadres', 'Subject: The Subject \\n\\n Here begins the body of the mail\\n\\\\n Van David') # De \\n eindigt de subject header. Met de \\n\\n kom je bij de body. Er zijn nog meer headers die je kunt gebruiken behalve de subject. Return object van sendmail is een dictionary met alle mails die NIET verzonden zijn. Als alles dus gelukt is is deze dictionary leeg. Aantal mails wat je met deze functie kunt versturen is vaak gelimiteerd op enkele 100en per dag zodat je mensen niet kunt mailbommen.  \n",
    "\n",
    "# Connectie met de SMTP server verbreken\n",
    "conn.quit()"
   ]
  },
  {
   "cell_type": "code",
   "execution_count": null,
   "metadata": {},
   "outputs": [],
   "source": [
    "# Inbox checken - werkt niet\n",
    "# IMAP Internet Message Access Protocol zegt hoe je moet communiceren met de mailserver om ontvangen mails te bekijken (dus SMTP voor mails sturen, IMAP voor mails ontvangen)\n",
    "import imapclient\n",
    "import pyzmail # Om ruwe mails te parsen en specifiek de info te verkrijgen die we willen\n",
    "\n",
    "# Connectie object maken en inloggen\n",
    "conn = imapclient.IMAPClient('outlook.office365.com', ssl=True) # SSL encryptie gebruiken\n",
    "conn.login('mailaddress', 'password')\n",
    "\n",
    "# Folder selecteren; meestal is dit 'INBOX'\n",
    "conn.select_folder('INBOX', readonly=True) # readonly = True zodat je niet per ongeluk mails delete\n",
    "\n",
    "# .search() method om te zoeken. Je moet hiervoor een lijst van strings gebruiken. \n",
    "UIDs = conn.search(['SINCE 1-May-2024']) # Resultaat is een lijst met unieke IDs, elke unieke ID is een unieke mail. \n",
    "\n",
    "# IDs van mails zegt niet zo veel, we willen onderwerp, etc. Dit kan mbv de .fetch() method. \n",
    "rawMessage = conn.fetch([], ['BODY[]', 'FLAGS']) # Eerste argument van .fetch() method is een lijst met ID van mail die we willen zien. Tweede argument is welk onderdeel van de mail je wilt. Moet wederom in een lijst. Zie documentatie om te zien wat je hier moet invullen. \n",
    "\n",
    "# Vervolgens de module pyzmail gebruiken om de raw mail te parsen voor de informatie die wij er specifiek uit willen hebben\n",
    "message = pyzmail.PyzMessage.factory(rawMessage[unieke ID van mail als INT niet als STR][b'BODY[]']) # Resultaat is een pyzMessage object\n",
    "message.get_subject()\n",
    "message.get_addresses('from')\n",
    "message.get_addresses('to')\n",
    "message.get_addresses('bcc')\n",
    "\n",
    "# Je kunt plain text mails en HTML mails versturen\n"
   ]
  },
  {
   "cell_type": "markdown",
   "metadata": {},
   "source": [
    "### GUI control"
   ]
  },
  {
   "cell_type": "code",
   "execution_count": 14,
   "metadata": {},
   "outputs": [
    {
     "data": {
      "text/plain": [
       "Point(x=1197, y=731)"
      ]
     },
     "execution_count": 14,
     "metadata": {},
     "output_type": "execute_result"
    }
   ],
   "source": [
    "# Muis\n",
    "# Je scherm is net een matrix, waarbij 0 0 helemaal links bovenin is. Omgekeerde van een x- en y-as in wiskunde.\n",
    "# Dus een ontwerp van een script zou het volgende kunnen zijn: positie bepalen van de knop waarop geklikt moet worden en vervolgens de muis ernaar toe bewegen en laten klikken\n",
    "import pyautogui\n",
    "\n",
    "# Grootte van monitor (matrix) bepalen\n",
    "width, height = pyautogui.size()\n",
    "\n",
    "# Huidige positie van de muis bepalen\n",
    "pyautogui.position()\n",
    "\n",
    "# Muis naar een bepaalde plek navigeren\n",
    "# pyautogui.moveTo(10,10, duration=1.5) # 1.5 seconden doet hij erover\n",
    "\n",
    "# Muis naar een plek verplaatsen relatief tov de huidige positie van de muis\n",
    "# pyautogui.moveRel(200,0, duration=1.5) # 200 pixels naar rechts\n",
    "# pyautogui.moveRel(0,-100, duration=1.5) # 100 pixels omhoog\n",
    "\n",
    "# Klikken met de muis\n",
    "# pyautogui.click()\n",
    "# pyautogui.click(300, 300)\n",
    "# pyautogui.doubleClick(300,300)\n",
    "# pyautogui.middleClick(300, 300)\n",
    "\n",
    "# Drag (slepen met de muisknop ingedrukt)\n",
    "# pyautogui.drag(300, 300, duration=1)\n",
    "# pyautogui.dragRel(300, 300, duration=1)\n",
    "\n",
    "# Failsafe om ervoor te zorgen dat je nog altijd een programma kunt stoppen met de muis: wanneer je muis naar coordinaat 0, 0 gaat (links bovenin het scherm), dan gaat het programma KAPOT! hEHEHEH!\n"
   ]
  },
  {
   "cell_type": "code",
   "execution_count": 24,
   "metadata": {},
   "outputs": [],
   "source": [
    "# Keyboard \n",
    "# Om ervoor te zorgen dat je in het juiste programma typet kun je eerst ergens klikken op een positie in dat programma\n",
    "# pyautogui.click()\n",
    "\n",
    "# Typen\n",
    "# pyautogui.typewrite('enne jong', interval=0.2) # 0.2 seconden pauze tussen het typen van elk teken\n",
    "# pyautogui.typewrite(['a', 'b', 'left', 'left', 'X']) # Type eerst 'a', dan 'b', ga daarna twee keer naar links met de cursor en type 'X'\n",
    "\n",
    "# Lijst met mogelijkheden die je kunt uitvoeren\n",
    "pyautogui.KEYBOARD_KEYS\n",
    "\n",
    "# Een bepaalde keyboard key indrukken\n",
    "# pyautogui.press('alt')\n",
    "\n",
    "# Een combinatie van keys tegelijk in drukken\n",
    "pyautogui.hotkey('ctrl', 'o')"
   ]
  },
  {
   "cell_type": "code",
   "execution_count": 31,
   "metadata": {},
   "outputs": [],
   "source": [
    "# Pillow imaging module\n",
    "# Screenshot maken\n",
    "# pyautogui.screenshot() # Resultaat is een pillow image object\n",
    "\n",
    "# Opslaan in cwd\n",
    "# pyautogui.screenshot('screenshotMetPyautogui.png')\n",
    "\n",
    "# Bepaald onderdeel in een plaatje herkennen\n",
    "# pyautogui.locateOnScreen('ChromeLogo.png') # Resultaat is tuple met (x-, y- coordinaten, breedte, hoogte). De x- en y-coordinatie zijn van de linkerbovenhoek van het ChromeLogo. \n",
    "# pyautogui.locateCenterOnScreen('ChromeLogo.png') # Resultaat is tuple met x- en y- coordinaten van het midden van het plaatje\n",
    "pyautogui.moveTo(pyautogui.locateCenterOnScreen('ChromeLogo.png'), duration=1.5)"
   ]
  },
  {
   "cell_type": "code",
   "execution_count": null,
   "metadata": {},
   "outputs": [],
   "source": []
  },
  {
   "cell_type": "markdown",
   "metadata": {},
   "source": [
    "### Lambda functies\n",
    "#### Lambda functies zijn kleine, anonieme functies voor een doeleind waarvoor je geen aparte functie wil ontwikkelen"
   ]
  },
  {
   "cell_type": "code",
   "execution_count": null,
   "metadata": {},
   "outputs": [],
   "source": [
    "# Lambda functies"
   ]
  },
  {
   "cell_type": "markdown",
   "metadata": {},
   "source": [
    "### List comprehension"
   ]
  },
  {
   "cell_type": "code",
   "execution_count": null,
   "metadata": {},
   "outputs": [],
   "source": [
    "# List comprehension"
   ]
  }
 ],
 "metadata": {
  "kernelspec": {
   "display_name": "Python 3",
   "language": "python",
   "name": "python3"
  },
  "language_info": {
   "codemirror_mode": {
    "name": "ipython",
    "version": 3
   },
   "file_extension": ".py",
   "mimetype": "text/x-python",
   "name": "python",
   "nbconvert_exporter": "python",
   "pygments_lexer": "ipython3",
   "version": "3.8.8"
  }
 },
 "nbformat": 4,
 "nbformat_minor": 2
}
